{
  "cells": [
    {
      "cell_type": "markdown",
      "metadata": {
        "id": "view-in-github",
        "colab_type": "text"
      },
      "source": [
        "<a href=\"https://colab.research.google.com/github/Nandu-kannan/test/blob/main/xxa_nandu_dronedetection.ipynb\" target=\"_parent\"><img src=\"https://colab.research.google.com/assets/colab-badge.svg\" alt=\"Open In Colab\"/></a>"
      ]
    },
    {
      "cell_type": "code",
      "source": [
        "!gdown --id 1ze6D6REFbDdyAXsxN5kwEqfh_OkC8qTo\n",
        "!unzip RF_Data_raw.zip\n",
        "!rm RF_Data_raw.zip"
      ],
      "metadata": {
        "id": "FRMZKOZva_o7",
        "colab": {
          "base_uri": "https://localhost:8080/"
        },
        "outputId": "5ba656c4-44aa-4c0b-affe-eacafb906249"
      },
      "id": "FRMZKOZva_o7",
      "execution_count": 12,
      "outputs": [
        {
          "output_type": "stream",
          "name": "stdout",
          "text": [
            "/usr/local/lib/python3.10/dist-packages/gdown/cli.py:121: FutureWarning: Option `--id` was deprecated in version 4.3.1 and will be removed in 5.0. You don't need to pass it anymore to use a file ID.\n",
            "  warnings.warn(\n",
            "Access denied with the following error:\n",
            "\n",
            " \tCannot retrieve the public link of the file. You may need to change\n",
            "\tthe permission to 'Anyone with the link', or have had many accesses. \n",
            "\n",
            "You may still be able to access the file from the browser:\n",
            "\n",
            "\t https://drive.google.com/uc?id=1ze6D6REFbDdyAXsxN5kwEqfh_OkC8qTo \n",
            "\n",
            "unzip:  cannot find or open RF_Data_raw.zip, RF_Data_raw.zip.zip or RF_Data_raw.zip.ZIP.\n",
            "rm: cannot remove 'RF_Data_raw.zip': No such file or directory\n"
          ]
        }
      ]
    },
    {
      "cell_type": "code",
      "source": [
        "!unzip RF_Data_raw.zip"
      ],
      "metadata": {
        "colab": {
          "base_uri": "https://localhost:8080/"
        },
        "id": "YV6GSqyP0yPt",
        "outputId": "6d670a8e-060d-438b-9e8c-f081e78551df"
      },
      "id": "YV6GSqyP0yPt",
      "execution_count": 2,
      "outputs": [
        {
          "output_type": "stream",
          "name": "stdout",
          "text": [
            "unzip:  cannot find or open RF_Data_raw.zip, RF_Data_raw.zip.zip or RF_Data_raw.zip.ZIP.\n"
          ]
        }
      ]
    },
    {
      "cell_type": "code",
      "source": [
        "!pip install tensorflow==2.8\n",
        "!apt install --allow-change-held-packages libcudnn8=8.1.0.77-1+cuda11.2"
      ],
      "metadata": {
        "id": "toBHXRIAsDzY",
        "colab": {
          "base_uri": "https://localhost:8080/"
        },
        "outputId": "769f7824-330b-4d91-8713-a325440953d1"
      },
      "id": "toBHXRIAsDzY",
      "execution_count": 3,
      "outputs": [
        {
          "output_type": "stream",
          "name": "stdout",
          "text": [
            "Collecting tensorflow==2.8\n",
            "  Downloading tensorflow-2.8.0-cp310-cp310-manylinux2010_x86_64.whl (497.6 MB)\n",
            "\u001b[2K     \u001b[90m━━━━━━━━━━━━━━━━━━━━━━━━━━━━━━━━━━━━━━━\u001b[0m \u001b[32m497.6/497.6 MB\u001b[0m \u001b[31m2.0 MB/s\u001b[0m eta \u001b[36m0:00:00\u001b[0m\n",
            "\u001b[?25hRequirement already satisfied: absl-py>=0.4.0 in /usr/local/lib/python3.10/dist-packages (from tensorflow==2.8) (1.4.0)\n",
            "Requirement already satisfied: astunparse>=1.6.0 in /usr/local/lib/python3.10/dist-packages (from tensorflow==2.8) (1.6.3)\n",
            "Requirement already satisfied: flatbuffers>=1.12 in /usr/local/lib/python3.10/dist-packages (from tensorflow==2.8) (23.5.26)\n",
            "Requirement already satisfied: gast>=0.2.1 in /usr/local/lib/python3.10/dist-packages (from tensorflow==2.8) (0.4.0)\n",
            "Requirement already satisfied: google-pasta>=0.1.1 in /usr/local/lib/python3.10/dist-packages (from tensorflow==2.8) (0.2.0)\n",
            "Requirement already satisfied: h5py>=2.9.0 in /usr/local/lib/python3.10/dist-packages (from tensorflow==2.8) (3.8.0)\n",
            "Collecting keras-preprocessing>=1.1.1 (from tensorflow==2.8)\n",
            "  Downloading Keras_Preprocessing-1.1.2-py2.py3-none-any.whl (42 kB)\n",
            "\u001b[2K     \u001b[90m━━━━━━━━━━━━━━━━━━━━━━━━━━━━━━━━━━━━━━━━\u001b[0m \u001b[32m42.6/42.6 kB\u001b[0m \u001b[31m4.1 MB/s\u001b[0m eta \u001b[36m0:00:00\u001b[0m\n",
            "\u001b[?25hRequirement already satisfied: libclang>=9.0.1 in /usr/local/lib/python3.10/dist-packages (from tensorflow==2.8) (16.0.0)\n",
            "Requirement already satisfied: numpy>=1.20 in /usr/local/lib/python3.10/dist-packages (from tensorflow==2.8) (1.22.4)\n",
            "Requirement already satisfied: opt-einsum>=2.3.2 in /usr/local/lib/python3.10/dist-packages (from tensorflow==2.8) (3.3.0)\n",
            "Requirement already satisfied: protobuf>=3.9.2 in /usr/local/lib/python3.10/dist-packages (from tensorflow==2.8) (3.20.3)\n",
            "Requirement already satisfied: setuptools in /usr/local/lib/python3.10/dist-packages (from tensorflow==2.8) (67.7.2)\n",
            "Requirement already satisfied: six>=1.12.0 in /usr/local/lib/python3.10/dist-packages (from tensorflow==2.8) (1.16.0)\n",
            "Requirement already satisfied: termcolor>=1.1.0 in /usr/local/lib/python3.10/dist-packages (from tensorflow==2.8) (2.3.0)\n",
            "Requirement already satisfied: typing-extensions>=3.6.6 in /usr/local/lib/python3.10/dist-packages (from tensorflow==2.8) (4.6.3)\n",
            "Requirement already satisfied: wrapt>=1.11.0 in /usr/local/lib/python3.10/dist-packages (from tensorflow==2.8) (1.14.1)\n",
            "Collecting tensorboard<2.9,>=2.8 (from tensorflow==2.8)\n",
            "  Downloading tensorboard-2.8.0-py3-none-any.whl (5.8 MB)\n",
            "\u001b[2K     \u001b[90m━━━━━━━━━━━━━━━━━━━━━━━━━━━━━━━━━━━━━━━━\u001b[0m \u001b[32m5.8/5.8 MB\u001b[0m \u001b[31m78.2 MB/s\u001b[0m eta \u001b[36m0:00:00\u001b[0m\n",
            "\u001b[?25hCollecting tf-estimator-nightly==2.8.0.dev2021122109 (from tensorflow==2.8)\n",
            "  Downloading tf_estimator_nightly-2.8.0.dev2021122109-py2.py3-none-any.whl (462 kB)\n",
            "\u001b[2K     \u001b[90m━━━━━━━━━━━━━━━━━━━━━━━━━━━━━━━━━━━━━━\u001b[0m \u001b[32m462.5/462.5 kB\u001b[0m \u001b[31m34.8 MB/s\u001b[0m eta \u001b[36m0:00:00\u001b[0m\n",
            "\u001b[?25hCollecting keras<2.9,>=2.8.0rc0 (from tensorflow==2.8)\n",
            "  Downloading keras-2.8.0-py2.py3-none-any.whl (1.4 MB)\n",
            "\u001b[2K     \u001b[90m━━━━━━━━━━━━━━━━━━━━━━━━━━━━━━━━━━━━━━━━\u001b[0m \u001b[32m1.4/1.4 MB\u001b[0m \u001b[31m71.2 MB/s\u001b[0m eta \u001b[36m0:00:00\u001b[0m\n",
            "\u001b[?25hRequirement already satisfied: tensorflow-io-gcs-filesystem>=0.23.1 in /usr/local/lib/python3.10/dist-packages (from tensorflow==2.8) (0.32.0)\n",
            "Requirement already satisfied: grpcio<2.0,>=1.24.3 in /usr/local/lib/python3.10/dist-packages (from tensorflow==2.8) (1.56.0)\n",
            "Requirement already satisfied: wheel<1.0,>=0.23.0 in /usr/local/lib/python3.10/dist-packages (from astunparse>=1.6.0->tensorflow==2.8) (0.40.0)\n",
            "Requirement already satisfied: google-auth<3,>=1.6.3 in /usr/local/lib/python3.10/dist-packages (from tensorboard<2.9,>=2.8->tensorflow==2.8) (2.17.3)\n",
            "Collecting google-auth-oauthlib<0.5,>=0.4.1 (from tensorboard<2.9,>=2.8->tensorflow==2.8)\n",
            "  Downloading google_auth_oauthlib-0.4.6-py2.py3-none-any.whl (18 kB)\n",
            "Requirement already satisfied: markdown>=2.6.8 in /usr/local/lib/python3.10/dist-packages (from tensorboard<2.9,>=2.8->tensorflow==2.8) (3.4.3)\n",
            "Requirement already satisfied: requests<3,>=2.21.0 in /usr/local/lib/python3.10/dist-packages (from tensorboard<2.9,>=2.8->tensorflow==2.8) (2.27.1)\n",
            "Collecting tensorboard-data-server<0.7.0,>=0.6.0 (from tensorboard<2.9,>=2.8->tensorflow==2.8)\n",
            "  Downloading tensorboard_data_server-0.6.1-py3-none-manylinux2010_x86_64.whl (4.9 MB)\n",
            "\u001b[2K     \u001b[90m━━━━━━━━━━━━━━━━━━━━━━━━━━━━━━━━━━━━━━━━\u001b[0m \u001b[32m4.9/4.9 MB\u001b[0m \u001b[31m99.9 MB/s\u001b[0m eta \u001b[36m0:00:00\u001b[0m\n",
            "\u001b[?25hCollecting tensorboard-plugin-wit>=1.6.0 (from tensorboard<2.9,>=2.8->tensorflow==2.8)\n",
            "  Downloading tensorboard_plugin_wit-1.8.1-py3-none-any.whl (781 kB)\n",
            "\u001b[2K     \u001b[90m━━━━━━━━━━━━━━━━━━━━━━━━━━━━━━━━━━━━━━\u001b[0m \u001b[32m781.3/781.3 kB\u001b[0m \u001b[31m52.9 MB/s\u001b[0m eta \u001b[36m0:00:00\u001b[0m\n",
            "\u001b[?25hRequirement already satisfied: werkzeug>=0.11.15 in /usr/local/lib/python3.10/dist-packages (from tensorboard<2.9,>=2.8->tensorflow==2.8) (2.3.6)\n",
            "Requirement already satisfied: cachetools<6.0,>=2.0.0 in /usr/local/lib/python3.10/dist-packages (from google-auth<3,>=1.6.3->tensorboard<2.9,>=2.8->tensorflow==2.8) (5.3.1)\n",
            "Requirement already satisfied: pyasn1-modules>=0.2.1 in /usr/local/lib/python3.10/dist-packages (from google-auth<3,>=1.6.3->tensorboard<2.9,>=2.8->tensorflow==2.8) (0.3.0)\n",
            "Requirement already satisfied: rsa<5,>=3.1.4 in /usr/local/lib/python3.10/dist-packages (from google-auth<3,>=1.6.3->tensorboard<2.9,>=2.8->tensorflow==2.8) (4.9)\n",
            "Requirement already satisfied: requests-oauthlib>=0.7.0 in /usr/local/lib/python3.10/dist-packages (from google-auth-oauthlib<0.5,>=0.4.1->tensorboard<2.9,>=2.8->tensorflow==2.8) (1.3.1)\n",
            "Requirement already satisfied: urllib3<1.27,>=1.21.1 in /usr/local/lib/python3.10/dist-packages (from requests<3,>=2.21.0->tensorboard<2.9,>=2.8->tensorflow==2.8) (1.26.16)\n",
            "Requirement already satisfied: certifi>=2017.4.17 in /usr/local/lib/python3.10/dist-packages (from requests<3,>=2.21.0->tensorboard<2.9,>=2.8->tensorflow==2.8) (2023.5.7)\n",
            "Requirement already satisfied: charset-normalizer~=2.0.0 in /usr/local/lib/python3.10/dist-packages (from requests<3,>=2.21.0->tensorboard<2.9,>=2.8->tensorflow==2.8) (2.0.12)\n",
            "Requirement already satisfied: idna<4,>=2.5 in /usr/local/lib/python3.10/dist-packages (from requests<3,>=2.21.0->tensorboard<2.9,>=2.8->tensorflow==2.8) (3.4)\n",
            "Requirement already satisfied: MarkupSafe>=2.1.1 in /usr/local/lib/python3.10/dist-packages (from werkzeug>=0.11.15->tensorboard<2.9,>=2.8->tensorflow==2.8) (2.1.3)\n",
            "Requirement already satisfied: pyasn1<0.6.0,>=0.4.6 in /usr/local/lib/python3.10/dist-packages (from pyasn1-modules>=0.2.1->google-auth<3,>=1.6.3->tensorboard<2.9,>=2.8->tensorflow==2.8) (0.5.0)\n",
            "Requirement already satisfied: oauthlib>=3.0.0 in /usr/local/lib/python3.10/dist-packages (from requests-oauthlib>=0.7.0->google-auth-oauthlib<0.5,>=0.4.1->tensorboard<2.9,>=2.8->tensorflow==2.8) (3.2.2)\n",
            "Installing collected packages: tf-estimator-nightly, tensorboard-plugin-wit, keras, tensorboard-data-server, keras-preprocessing, google-auth-oauthlib, tensorboard, tensorflow\n",
            "  Attempting uninstall: keras\n",
            "    Found existing installation: keras 2.12.0\n",
            "    Uninstalling keras-2.12.0:\n",
            "      Successfully uninstalled keras-2.12.0\n",
            "  Attempting uninstall: tensorboard-data-server\n",
            "    Found existing installation: tensorboard-data-server 0.7.1\n",
            "    Uninstalling tensorboard-data-server-0.7.1:\n",
            "      Successfully uninstalled tensorboard-data-server-0.7.1\n",
            "  Attempting uninstall: google-auth-oauthlib\n",
            "    Found existing installation: google-auth-oauthlib 1.0.0\n",
            "    Uninstalling google-auth-oauthlib-1.0.0:\n",
            "      Successfully uninstalled google-auth-oauthlib-1.0.0\n",
            "  Attempting uninstall: tensorboard\n",
            "    Found existing installation: tensorboard 2.12.3\n",
            "    Uninstalling tensorboard-2.12.3:\n",
            "      Successfully uninstalled tensorboard-2.12.3\n",
            "  Attempting uninstall: tensorflow\n",
            "    Found existing installation: tensorflow 2.12.0\n",
            "    Uninstalling tensorflow-2.12.0:\n",
            "      Successfully uninstalled tensorflow-2.12.0\n",
            "Successfully installed google-auth-oauthlib-0.4.6 keras-2.8.0 keras-preprocessing-1.1.2 tensorboard-2.8.0 tensorboard-data-server-0.6.1 tensorboard-plugin-wit-1.8.1 tensorflow-2.8.0 tf-estimator-nightly-2.8.0.dev2021122109\n",
            "Reading package lists... Done\n",
            "Building dependency tree       \n",
            "Reading state information... Done\n",
            "The following packages will be REMOVED:\n",
            "  libcudnn8-dev\n",
            "The following held packages will be changed:\n",
            "  libcudnn8\n",
            "The following packages will be DOWNGRADED:\n",
            "  libcudnn8\n",
            "0 upgraded, 0 newly installed, 1 downgraded, 1 to remove and 12 not upgraded.\n",
            "Need to get 430 MB of archives.\n",
            "After this operation, 1,027 MB disk space will be freed.\n",
            "Get:1 https://developer.download.nvidia.com/compute/cuda/repos/ubuntu2004/x86_64  libcudnn8 8.1.0.77-1+cuda11.2 [430 MB]\n",
            "Fetched 430 MB in 5s (84.7 MB/s)\n",
            "(Reading database ... 123069 files and directories currently installed.)\n",
            "Removing libcudnn8-dev (8.9.0.131-1+cuda11.8) ...\n",
            "update-alternatives: removing manually selected alternative - switching libcudnn to auto mode\n",
            "\u001b[1mdpkg:\u001b[0m \u001b[1;33mwarning:\u001b[0m downgrading libcudnn8 from 8.9.0.131-1+cuda11.8 to 8.1.0.77-1+cuda11.2\n",
            "(Reading database ... 123036 files and directories currently installed.)\n",
            "Preparing to unpack .../libcudnn8_8.1.0.77-1+cuda11.2_amd64.deb ...\n",
            "Unpacking libcudnn8 (8.1.0.77-1+cuda11.2) over (8.9.0.131-1+cuda11.8) ...\n",
            "Setting up libcudnn8 (8.1.0.77-1+cuda11.2) ...\n"
          ]
        }
      ]
    },
    {
      "cell_type": "code",
      "execution_count": 4,
      "id": "5774864f-276e-4cf4-b95f-956ad271b00d",
      "metadata": {
        "tags": [],
        "id": "5774864f-276e-4cf4-b95f-956ad271b00d"
      },
      "outputs": [],
      "source": [
        "import numpy as np\n",
        "import tensorflow as tf\n",
        "from keras.models import Sequential\n",
        "from keras.layers import Dense\n",
        "from sklearn.model_selection import StratifiedKFold\n",
        "from tensorflow import keras\n",
        "from tensorflow.keras.preprocessing import sequence\n",
        "from sklearn.preprocessing import LabelEncoder\n",
        "from tensorflow.keras.models import Sequential\n",
        "from tensorflow.keras.layers import Dense, Dropout, Activation, Conv1D, MaxPooling1D, Flatten\n",
        "from tensorflow.keras.regularizers import l2\n",
        "from tensorflow.keras.utils import plot_model\n",
        "from tensorflow.keras.callbacks import EarlyStopping,ModelCheckpoint\n",
        "from tensorflow.keras.layers import BatchNormalization\n",
        "from tensorflow.keras import optimizers\n",
        "import matplotlib.pyplot as plt\n",
        "import matplotlib.figure\n",
        "from sklearn.model_selection import train_test_split\n",
        "from sklearn.model_selection import KFold\n",
        "from sklearn.model_selection import cross_val_score\n",
        "from sklearn.metrics import classification_report"
      ]
    },
    {
      "cell_type": "code",
      "execution_count": 5,
      "id": "0fdae035-7e6c-4430-890a-ef630b3fa85c",
      "metadata": {
        "id": "0fdae035-7e6c-4430-890a-ef630b3fa85c"
      },
      "outputs": [],
      "source": [
        "from tensorflow.keras.utils import to_categorical\n",
        "def decode(datum):\n",
        "    y = np.zeros((datum.shape[0],1))\n",
        "    for i in range(datum.shape[0]):\n",
        "        y[i] = np.argmax(datum[i])\n",
        "    return y\n",
        "def encode(datum):\n",
        "    return to_categorical(datum)"
      ]
    },
    {
      "cell_type": "code",
      "source": [
        "cd /content/drive/MyDrive/Saurav"
      ],
      "metadata": {
        "colab": {
          "base_uri": "https://localhost:8080/"
        },
        "id": "2fDnOzYItkqq",
        "outputId": "d64652f2-26d1-48ea-e724-936f7d41157c"
      },
      "id": "2fDnOzYItkqq",
      "execution_count": 13,
      "outputs": [
        {
          "output_type": "stream",
          "name": "stdout",
          "text": [
            "/content/drive/MyDrive/Saurav\n"
          ]
        }
      ]
    },
    {
      "cell_type": "code",
      "execution_count": 14,
      "id": "4be74ac3-d363-48c6-bb05-5eb9a1e650a2",
      "metadata": {
        "id": "4be74ac3-d363-48c6-bb05-5eb9a1e650a2",
        "colab": {
          "base_uri": "https://localhost:8080/"
        },
        "outputId": "15da78fc-98ce-4af3-fe81-869dc10c0865"
      },
      "outputs": [
        {
          "output_type": "stream",
          "name": "stdout",
          "text": [
            "Loading Data ...\n"
          ]
        },
        {
          "output_type": "execute_result",
          "data": {
            "text/plain": [
              "(50003, 11350)"
            ]
          },
          "metadata": {},
          "execution_count": 14
        }
      ],
      "source": [
        "print(\"Loading Data ...\")\n",
        "Data = np.loadtxt(\"RF_Data_raw.csv\", delimiter=\",\")\n",
        "Data.shape"
      ]
    },
    {
      "cell_type": "code",
      "source": [
        "from google.colab import drive\n",
        "drive.mount('/content/drive')"
      ],
      "metadata": {
        "colab": {
          "base_uri": "https://localhost:8080/"
        },
        "id": "-WDd1DGytHwo",
        "outputId": "ea88e0c9-67d1-4d14-c785-3aa9225ad435"
      },
      "id": "-WDd1DGytHwo",
      "execution_count": 10,
      "outputs": [
        {
          "output_type": "stream",
          "name": "stdout",
          "text": [
            "Mounted at /content/drive\n"
          ]
        }
      ]
    },
    {
      "cell_type": "code",
      "source": [
        "from scipy.fft import fft\n",
        "time_domain = []\n",
        "freq_domain = []\n",
        "Label_1 = []\n",
        "Label_2 = []\n",
        "Label_3 = []\n",
        "\n",
        "for data in Data.T:\n",
        "    for i in range(0,50000,5000):\n",
        "        segment = data[i:i+5000]\n",
        "        time_domain.append(segment)\n",
        "        freq_domain.append(abs(fft(segment)))\n",
        "        Label_1.append([data[50000]])\n",
        "        Label_2.append([data[50001]])\n",
        "        Label_3.append([data[50002]])\n",
        "\n",
        "time_domain = np.array(time_domain)\n",
        "freq_domain = np.array(freq_domain)"
      ],
      "metadata": {
        "id": "5rXBZ_LqqNK9"
      },
      "id": "5rXBZ_LqqNK9",
      "execution_count": 15,
      "outputs": []
    },
    {
      "cell_type": "code",
      "source": [
        "x_r = time_domain\n",
        "x_f = freq_domain\n",
        "Label_1 = np.array(Label_1);    Label_1 = Label_1.astype(int);\n",
        "Label_2 = np.array(Label_2);    Label_2 = Label_2.astype(int);\n",
        "Label_3 = np.array(Label_3);    Label_3 = Label_3.astype(int);\n",
        "y1 = encode(Label_1)\n",
        "y2 = encode(Label_2)\n",
        "y3 = encode(Label_3)"
      ],
      "metadata": {
        "id": "841HG0PbFEd2"
      },
      "id": "841HG0PbFEd2",
      "execution_count": 16,
      "outputs": []
    },
    {
      "cell_type": "code",
      "source": [
        "del Data, time_domain, freq_domain"
      ],
      "metadata": {
        "id": "vIJ1Evt8Mpzl"
      },
      "id": "vIJ1Evt8Mpzl",
      "execution_count": 17,
      "outputs": []
    },
    {
      "cell_type": "code",
      "execution_count": 18,
      "id": "4c8eff5e-7757-414d-9451-a1ff6225da07",
      "metadata": {
        "id": "4c8eff5e-7757-414d-9451-a1ff6225da07",
        "colab": {
          "base_uri": "https://localhost:8080/"
        },
        "outputId": "aaed2cc1-7232-4b14-8965-f7f16bf39ac1"
      },
      "outputs": [
        {
          "output_type": "stream",
          "name": "stdout",
          "text": [
            "(90800, 5000)\n",
            "(90800, 5000)\n",
            "(90800, 10)\n",
            "(22700, 5000)\n",
            "(22700, 5000)\n",
            "(22700, 10)\n"
          ]
        }
      ],
      "source": [
        "from sklearn.model_selection import train_test_split\n",
        "x_train_f, x_test_f, x_train_r, x_test_r, y_train, y_test = train_test_split(x_f, x_r, y3, test_size=0.2, random_state=43, shuffle=True)\n",
        "print(x_train_r.shape)\n",
        "print(x_train_f.shape)\n",
        "print(y_train.shape)\n",
        "print(x_test_r.shape)\n",
        "print(x_test_f.shape)\n",
        "print(y_test.shape)"
      ]
    },
    {
      "cell_type": "code",
      "execution_count": 19,
      "id": "6bef46dc-5f56-433c-9fae-83f5e767bfaf",
      "metadata": {
        "id": "6bef46dc-5f56-433c-9fae-83f5e767bfaf"
      },
      "outputs": [],
      "source": [
        "del Label_1, Label_2, Label_3, x_r, x_f"
      ]
    },
    {
      "cell_type": "code",
      "execution_count": 20,
      "id": "9a5b8b58-a7eb-4a37-b002-8f9af0d0f92e",
      "metadata": {
        "id": "9a5b8b58-a7eb-4a37-b002-8f9af0d0f92e",
        "colab": {
          "base_uri": "https://localhost:8080/"
        },
        "outputId": "63d1c828-79f8-4765-d1d3-25437d0b2d49"
      },
      "outputs": [
        {
          "output_type": "stream",
          "name": "stdout",
          "text": [
            "(90800, 5000, 1)\n",
            "(22700, 5000, 1)\n",
            "(90800, 5000, 1)\n",
            "(22700, 5000, 1)\n"
          ]
        }
      ],
      "source": [
        "# reshape input to be [samples, time steps, features = 1] as the model requires this 3D shape imput\n",
        "x_train_r = np.reshape(x_train_r, (x_train_r.shape[0], x_train_r.shape[1], 1))\n",
        "x_test_r = np.reshape(x_test_r, (x_test_r.shape[0], x_test_r.shape[1], 1))\n",
        "x_train_f = np.reshape(x_train_f, (x_train_f.shape[0], x_train_f.shape[1], 1))\n",
        "x_test_f = np.reshape(x_test_f, (x_test_f.shape[0], x_test_f.shape[1], 1))\n",
        "print(x_train_r.shape)\n",
        "print(x_test_r.shape)\n",
        "print(x_train_f.shape)\n",
        "print(x_test_f.shape)"
      ]
    },
    {
      "cell_type": "code",
      "source": [],
      "metadata": {
        "id": "f-2r2Ja9LLOs"
      },
      "id": "f-2r2Ja9LLOs",
      "execution_count": null,
      "outputs": []
    },
    {
      "cell_type": "markdown",
      "id": "4db78008-1184-4ede-967b-884c22aeb736",
      "metadata": {
        "tags": [],
        "id": "4db78008-1184-4ede-967b-884c22aeb736"
      },
      "source": [
        "# MULTISCALE CNN TRAINING"
      ]
    },
    {
      "cell_type": "markdown",
      "id": "12e7e720-a9ee-4edd-8759-4bd3a5e1e577",
      "metadata": {
        "tags": [],
        "id": "12e7e720-a9ee-4edd-8759-4bd3a5e1e577"
      },
      "source": [
        "## FOR TIME DOMAIN AND FREQ DOMAIN DATA"
      ]
    },
    {
      "cell_type": "code",
      "execution_count": 21,
      "id": "59526653-993f-46f9-9a24-694fa28a4f9b",
      "metadata": {
        "id": "59526653-993f-46f9-9a24-694fa28a4f9b",
        "colab": {
          "base_uri": "https://localhost:8080/"
        },
        "outputId": "5383631c-8be9-4bd5-fd4b-16b48831c32b"
      },
      "outputs": [
        {
          "output_type": "stream",
          "name": "stdout",
          "text": [
            "Model: \"rawModel\"\n",
            "_________________________________________________________________\n",
            " Layer (type)                Output Shape              Param #   \n",
            "=================================================================\n",
            " rawInput (InputLayer)       [(None, 5000, 1)]         0         \n",
            "                                                                 \n",
            " conv1d (Conv1D)             (None, 2500, 32)          256       \n",
            "                                                                 \n",
            " max_pooling1d (MaxPooling1D  (None, 625, 32)          0         \n",
            " )                                                               \n",
            "                                                                 \n",
            " dropout (Dropout)           (None, 625, 32)           0         \n",
            "                                                                 \n",
            " conv1d_1 (Conv1D)           (None, 313, 64)           14400     \n",
            "                                                                 \n",
            " max_pooling1d_1 (MaxPooling  (None, 157, 64)          0         \n",
            " 1D)                                                             \n",
            "                                                                 \n",
            " dropout_1 (Dropout)         (None, 157, 64)           0         \n",
            "                                                                 \n",
            " conv1d_2 (Conv1D)           (None, 79, 128)           57472     \n",
            "                                                                 \n",
            " max_pooling1d_2 (MaxPooling  (None, 40, 128)          0         \n",
            " 1D)                                                             \n",
            "                                                                 \n",
            " dropout_2 (Dropout)         (None, 40, 128)           0         \n",
            "                                                                 \n",
            " conv1d_3 (Conv1D)           (None, 40, 256)           229632    \n",
            "                                                                 \n",
            " max_pooling1d_3 (MaxPooling  (None, 20, 256)          0         \n",
            " 1D)                                                             \n",
            "                                                                 \n",
            " dropout_3 (Dropout)         (None, 20, 256)           0         \n",
            "                                                                 \n",
            " conv1d_4 (Conv1D)           (None, 20, 512)           918016    \n",
            "                                                                 \n",
            " max_pooling1d_4 (MaxPooling  (None, 10, 512)          0         \n",
            " 1D)                                                             \n",
            "                                                                 \n",
            " dropout_4 (Dropout)         (None, 10, 512)           0         \n",
            "                                                                 \n",
            " global_max_pooling1d (Globa  (None, 512)              0         \n",
            " lMaxPooling1D)                                                  \n",
            "                                                                 \n",
            "=================================================================\n",
            "Total params: 1,219,776\n",
            "Trainable params: 1,219,776\n",
            "Non-trainable params: 0\n",
            "_________________________________________________________________\n"
          ]
        }
      ],
      "source": [
        "from tensorflow.keras import backend as Ke\n",
        "from tensorflow.keras.layers import concatenate, Input, GlobalMaxPooling1D, GlobalAveragePooling1D\n",
        "from tensorflow.keras.regularizers import l2\n",
        "Ke.clear_session()\n",
        "raw_input=Input(shape=(5000,1),name=\"rawInput\")\n",
        "x=Conv1D(32,7,padding='same', activation='relu',strides=2)(raw_input)\n",
        "x=MaxPooling1D(pool_size=4,padding='same')(x)\n",
        "x=Dropout(rate = 0.25)(x)\n",
        "\n",
        "x=Conv1D(64,7,padding='same', activation='relu',strides=2)(x)\n",
        "x=MaxPooling1D(pool_size=2,padding='same')(x)\n",
        "x=Dropout(rate = 0.25)(x)\n",
        "\n",
        "x=Conv1D(128,7,padding='same', activation='relu',strides=2)(x)\n",
        "x=MaxPooling1D(pool_size=2,padding='same')(x)\n",
        "x=Dropout(rate = 0.25)(x)\n",
        "\n",
        "# x=Conv1D(256,7,padding='same', activation='relu',strides=1)(x)\n",
        "# x=MaxPooling1D(pool_size=2,padding='same')(x)\n",
        "# x=Dropout(rate = 0.25)(x)\n",
        "\n",
        "x=Conv1D(256,7,padding='same', activation='relu',strides=1)(x)\n",
        "x=MaxPooling1D(pool_size=2,padding='same')(x)\n",
        "x=Dropout(rate = 0.25)(x)\n",
        "\n",
        "x=Conv1D(512,7,padding='same', activation='relu',strides=1)(x)\n",
        "x=MaxPooling1D(pool_size=2,padding='same')(x)\n",
        "x=Dropout(rate = 0.25)(x)\n",
        "\n",
        "# x=Conv1D(512,7,padding='same', activation='relu',strides=1)(x)\n",
        "# x=MaxPooling1D(pool_size=2,padding='same')(x)\n",
        "# x=Dropout(rate = 0.25)(x)\n",
        "\n",
        "raw_output=GlobalMaxPooling1D()(x)\n",
        "raw_model=keras.Model(raw_input, raw_output, name=\"rawModel\")\n",
        "raw_model.summary()"
      ]
    },
    {
      "cell_type": "code",
      "execution_count": 22,
      "id": "a577dca4-3925-4f4d-b3e3-edc16a9db36e",
      "metadata": {
        "id": "a577dca4-3925-4f4d-b3e3-edc16a9db36e",
        "colab": {
          "base_uri": "https://localhost:8080/"
        },
        "outputId": "daa74daa-61ee-481f-f2cf-f5844aca112c"
      },
      "outputs": [
        {
          "output_type": "stream",
          "name": "stdout",
          "text": [
            "Model: \"freqModel\"\n",
            "_________________________________________________________________\n",
            " Layer (type)                Output Shape              Param #   \n",
            "=================================================================\n",
            " freqInput (InputLayer)      [(None, 5000, 1)]         0         \n",
            "                                                                 \n",
            " conv1d (Conv1D)             (None, 2500, 32)          256       \n",
            "                                                                 \n",
            " max_pooling1d (MaxPooling1D  (None, 625, 32)          0         \n",
            " )                                                               \n",
            "                                                                 \n",
            " dropout (Dropout)           (None, 625, 32)           0         \n",
            "                                                                 \n",
            " conv1d_1 (Conv1D)           (None, 313, 64)           14400     \n",
            "                                                                 \n",
            " max_pooling1d_1 (MaxPooling  (None, 157, 64)          0         \n",
            " 1D)                                                             \n",
            "                                                                 \n",
            " dropout_1 (Dropout)         (None, 157, 64)           0         \n",
            "                                                                 \n",
            " conv1d_2 (Conv1D)           (None, 79, 128)           57472     \n",
            "                                                                 \n",
            " max_pooling1d_2 (MaxPooling  (None, 40, 128)          0         \n",
            " 1D)                                                             \n",
            "                                                                 \n",
            " dropout_2 (Dropout)         (None, 40, 128)           0         \n",
            "                                                                 \n",
            " conv1d_3 (Conv1D)           (None, 40, 256)           229632    \n",
            "                                                                 \n",
            " max_pooling1d_3 (MaxPooling  (None, 20, 256)          0         \n",
            " 1D)                                                             \n",
            "                                                                 \n",
            " dropout_3 (Dropout)         (None, 20, 256)           0         \n",
            "                                                                 \n",
            " global_max_pooling1d (Globa  (None, 256)              0         \n",
            " lMaxPooling1D)                                                  \n",
            "                                                                 \n",
            "=================================================================\n",
            "Total params: 301,760\n",
            "Trainable params: 301,760\n",
            "Non-trainable params: 0\n",
            "_________________________________________________________________\n"
          ]
        }
      ],
      "source": [
        "Ke.clear_session()\n",
        "freq_input=Input(shape=(5000,1),name=\"freqInput\")\n",
        "x=Conv1D(32,7,padding='same', activation='relu',strides=2)(freq_input)\n",
        "x=MaxPooling1D(pool_size=4,padding='same')(x)\n",
        "x=Dropout(rate = 0.25)(x)\n",
        "\n",
        "x=Conv1D(64,7,padding='same', activation='relu',strides=2)(x)\n",
        "x=MaxPooling1D(pool_size=2,padding='same')(x)\n",
        "x=Dropout(rate = 0.25)(x)\n",
        "\n",
        "x=Conv1D(128,7,padding='same', activation='relu',strides=2)(x)\n",
        "x=MaxPooling1D(pool_size=2,padding='same')(x)\n",
        "x=Dropout(rate = 0.25)(x)\n",
        "\n",
        "x=Conv1D(256,7,padding='same', activation='relu',strides=1)(x)\n",
        "x=MaxPooling1D(pool_size=2,padding='same')(x)\n",
        "x=Dropout(rate = 0.25)(x)\n",
        "\n",
        "# x=Conv1D(256,7,padding='same', activation='relu',strides=1)(x)\n",
        "# x=MaxPooling1D(pool_size=2,padding='same')(x)\n",
        "# x=Dropout(rate = 0.25)(x)\n",
        "\n",
        "# x=Conv1D(512,7,padding='same', activation='relu',strides=1)(x)\n",
        "# x=MaxPooling1D(pool_size=2,padding='same')(x)\n",
        "# x=Dropout(rate = 0.25)(x)\n",
        "\n",
        "# x=Conv1D(512,7,padding='same', activation='relu',strides=1)(x)\n",
        "# x=MaxPooling1D(pool_size=2,padding='same')(x)\n",
        "# x=Dropout(rate = 0.25)(x)\n",
        "\n",
        "freq_output=GlobalMaxPooling1D()(x)\n",
        "freq_model=keras.Model(freq_input, freq_output, name=\"freqModel\")\n",
        "freq_model.summary()"
      ]
    },
    {
      "cell_type": "code",
      "execution_count": 23,
      "id": "d7b6cc84-5de3-4b54-968e-6349d28b3f26",
      "metadata": {
        "id": "d7b6cc84-5de3-4b54-968e-6349d28b3f26",
        "colab": {
          "base_uri": "https://localhost:8080/"
        },
        "outputId": "8053052f-7ad2-4630-c299-c751e006fa99"
      },
      "outputs": [
        {
          "output_type": "stream",
          "name": "stdout",
          "text": [
            "Model: \"Net\"\n",
            "__________________________________________________________________________________________________\n",
            " Layer (type)                   Output Shape         Param #     Connected to                     \n",
            "==================================================================================================\n",
            " raw (InputLayer)               [(None, 5000, 1)]    0           []                               \n",
            "                                                                                                  \n",
            " freq (InputLayer)              [(None, 5000, 1)]    0           []                               \n",
            "                                                                                                  \n",
            " rawModel (Functional)          (None, 512)          1219776     ['raw[0][0]']                    \n",
            "                                                                                                  \n",
            " freqModel (Functional)         (None, 256)          301760      ['freq[0][0]']                   \n",
            "                                                                                                  \n",
            " concatenate (Concatenate)      (None, 768)          0           ['rawModel[0][0]',               \n",
            "                                                                  'freqModel[0][0]']              \n",
            "                                                                                                  \n",
            " dropout (Dropout)              (None, 768)          0           ['concatenate[0][0]']            \n",
            "                                                                                                  \n",
            " dense (Dense)                  (None, 128)          98432       ['dropout[0][0]']                \n",
            "                                                                                                  \n",
            " dropout_1 (Dropout)            (None, 128)          0           ['dense[0][0]']                  \n",
            "                                                                                                  \n",
            " dense_1 (Dense)                (None, 64)           8256        ['dropout_1[0][0]']              \n",
            "                                                                                                  \n",
            " dropout_2 (Dropout)            (None, 64)           0           ['dense_1[0][0]']                \n",
            "                                                                                                  \n",
            " dense_2 (Dense)                (None, 32)           2080        ['dropout_2[0][0]']              \n",
            "                                                                                                  \n",
            " dropout_3 (Dropout)            (None, 32)           0           ['dense_2[0][0]']                \n",
            "                                                                                                  \n",
            " dense_3 (Dense)                (None, 10)           330         ['dropout_3[0][0]']              \n",
            "                                                                                                  \n",
            "==================================================================================================\n",
            "Total params: 1,630,634\n",
            "Trainable params: 1,630,634\n",
            "Non-trainable params: 0\n",
            "__________________________________________________________________________________________________\n"
          ]
        }
      ],
      "source": [
        "Ke.clear_session()\n",
        "input_raw=Input(shape=(5000,1),name=\"raw\")\n",
        "raw=raw_model(input_raw)\n",
        "\n",
        "input_freq=Input(shape=(5000,1),name=\"freq\")\n",
        "freq=freq_model(input_freq)\n",
        "\n",
        "\n",
        "concat=concatenate([raw,freq])\n",
        "hidden=Dropout(0.25)(concat)\n",
        "\n",
        "\n",
        "hidden=Dense(128,activation='relu')(hidden)\n",
        "hidden=Dropout(0.25)(hidden)\n",
        "\n",
        "hidden=Dense(64,activation='relu')(hidden)\n",
        "hidden=Dropout(0.25)(hidden)\n",
        "\n",
        "hidden=Dense(32,activation='relu')(hidden)\n",
        "hidden=Dropout(0.25)(hidden)\n",
        "\n",
        "output=Dense(10,activation='softmax')(hidden)\n",
        "net=tf.keras.Model([input_raw,input_freq], output, name=\"Net\")\n",
        "\n",
        "net.summary()"
      ]
    },
    {
      "cell_type": "code",
      "execution_count": 24,
      "id": "4c73f873-cc87-4359-8615-1ed9af47711c",
      "metadata": {
        "id": "4c73f873-cc87-4359-8615-1ed9af47711c",
        "tags": [],
        "colab": {
          "base_uri": "https://localhost:8080/",
          "height": 1000
        },
        "outputId": "ffda3842-d404-433a-cc69-0282f33186db"
      },
      "outputs": [
        {
          "output_type": "execute_result",
          "data": {
            "image/png": "[encoded data removed]",
            "text/plain": [
              "<IPython.core.display.Image object>"
            ]
          },
          "metadata": {},
          "execution_count": 24
        }
      ],
      "source": [
        "#keras.utils.plot_model(net, \"net.png\", show_shapes=True)\n",
        "from tensorflow.keras.utils import plot_model\n",
        "plot_model(net, \"net.png\", show_shapes=True)"
      ]
    },
    {
      "cell_type": "code",
      "source": [
        "def run_model():\n",
        "    # learning_rate = 0.01 # initial learning rate\n",
        "    # decay_rate = 0.1\n",
        "    # opt=keras.optimizers.Adam(learning_rate=learning_rate)\n",
        "    # def exp_decay(epoch):\n",
        "    #     lrate = learning_rate * np.exp(-decay_rate*epoch)\n",
        "    #     return lrate\n",
        "\n",
        "    # # learning schedule callback\n",
        "    # loss_history = tf.keras.callbacks.History()\n",
        "    # lr_rate = tf.keras.callbacks.LearningRateScheduler(exp_decay)\n",
        "\n",
        "    # estp = EarlyStopping(monitor='val_loss', min_delta=0.0005,patience=8 , verbose=1, mode='auto',restore_best_weights=True)\n",
        "    # callbacks_list = [loss_history, lr_rate]\n",
        "\n",
        "    opt=keras.optimizers.Adam(learning_rate=0.00001)\n",
        "    net.compile(loss='categorical_crossentropy',optimizer=opt,metrics=['accuracy'])\n",
        "    estp = EarlyStopping(monitor='val_loss', min_delta=0.0005,patience=8 , verbose=1, mode='auto',restore_best_weights=True) #, callbacks = [estp]\n",
        "\n",
        "    history = net.fit(\n",
        "        {\"raw\":x_train_r,\"freq\":x_train_f},\n",
        "        y_train,\n",
        "        batch_size=128,\n",
        "        epochs=300,\n",
        "        verbose = 1,\n",
        "        validation_split=0.2,\n",
        "        callbacks = [estp])\n",
        "\n",
        "    history_dict = history.history\n",
        "    history_dict.keys()\n",
        "    results = net.evaluate({\"raw\":x_test_r,\"freq\":x_test_f}, y_test)"
      ],
      "metadata": {
        "id": "Tk03tPF2DdpB"
      },
      "id": "Tk03tPF2DdpB",
      "execution_count": 27,
      "outputs": []
    },
    {
      "cell_type": "code",
      "source": [
        "#good hyper parameters\n",
        "\n",
        "\n",
        "from tensorflow.keras.optimizers import Adam\n",
        "from tensorflow.keras.callbacks import EarlyStopping\n",
        "\n",
        "# Define the optimizer with adjusted learning rate\n",
        "opt = Adam(learning_rate=0.001)\n",
        "\n",
        "# Compile the model with adjusted hyperparameters\n",
        "net.compile(loss='categorical_crossentropy', optimizer=opt, metrics=['accuracy'])\n",
        "\n",
        "# Define early stopping with adjusted parameters\n",
        "estp = EarlyStopping(monitor='val_loss', min_delta=0.0005, patience=8, verbose=1, mode='auto', restore_best_weights=True)\n",
        "\n",
        "# Fit the model with updated hyperparameters\n",
        "history = net.fit(\n",
        "    {\"raw\": x_train_r, \"freq\": x_train_f},\n",
        "    y_train,\n",
        "    batch_size=64,  # Adjusted batch size\n",
        "    epochs=500,  # Increased number of epochs\n",
        "    verbose=1,\n",
        "    validation_split=0.2,\n",
        "    callbacks=[estp]\n",
        ")\n",
        "\n",
        "# Evaluate the model on the test set\n",
        "results = net.evaluate({\"raw\": x_test_r, \"freq\": x_test_f}, y_test)\n"
      ],
      "metadata": {
        "colab": {
          "base_uri": "https://localhost:8080/"
        },
        "id": "l2Hx19kHydHX",
        "outputId": "4f0b6581-f1d1-47d1-c563-64e94cffb9c9"
      },
      "id": "l2Hx19kHydHX",
      "execution_count": null,
      "outputs": [
        {
          "output_type": "stream",
          "name": "stdout",
          "text": [
            "Epoch 1/500\n",
            "1135/1135 [==============================] - 286s 251ms/step - loss: 1.2555 - accuracy: 0.4885 - val_loss: 0.5741 - val_accuracy: 0.7828\n",
            "Epoch 2/500\n",
            "1135/1135 [==============================] - 272s 239ms/step - loss: 0.6361 - accuracy: 0.7295 - val_loss: 0.4361 - val_accuracy: 0.8020\n",
            "Epoch 3/500\n",
            "1135/1135 [==============================] - 269s 237ms/step - loss: 0.5033 - accuracy: 0.7746 - val_loss: 0.3812 - val_accuracy: 0.8215\n",
            "Epoch 4/500\n",
            "1135/1135 [==============================] - 267s 235ms/step - loss: 0.4582 - accuracy: 0.7941 - val_loss: 0.3561 - val_accuracy: 0.8406\n",
            "Epoch 5/500\n",
            "1135/1135 [==============================] - 272s 239ms/step - loss: 0.4189 - accuracy: 0.8106 - val_loss: 0.3395 - val_accuracy: 0.8322\n",
            "Epoch 6/500\n",
            "1135/1135 [==============================] - 269s 237ms/step - loss: 0.3942 - accuracy: 0.8210 - val_loss: 0.3060 - val_accuracy: 0.8517\n"
          ]
        }
      ]
    },
    {
      "cell_type": "code",
      "source": [
        "run_model()"
      ],
      "metadata": {
        "colab": {
          "base_uri": "https://localhost:8080/",
          "height": 345
        },
        "id": "HHlCBb3v-qti",
        "outputId": "bc153c66-68bf-4958-d004-5c9e7e4d3ca5"
      },
      "id": "HHlCBb3v-qti",
      "execution_count": 26,
      "outputs": [
        {
          "output_type": "stream",
          "name": "stdout",
          "text": [
            "Epoch 1/300\n",
            "173/568 [========>.....................] - ETA: 3:08 - loss: 2.3402 - accuracy: 0.0974"
          ]
        },
        {
          "output_type": "error",
          "ename": "KeyboardInterrupt",
          "evalue": "ignored",
          "traceback": [
            "\u001b[0;31m---------------------------------------------------------------------------\u001b[0m",
            "\u001b[0;31mKeyboardInterrupt\u001b[0m                         Traceback (most recent call last)",
            "\u001b[0;32m<ipython-input-26-d8af0fd933a9>\u001b[0m in \u001b[0;36m<cell line: 1>\u001b[0;34m()\u001b[0m\n\u001b[0;32m----> 1\u001b[0;31m \u001b[0mrun_model\u001b[0m\u001b[0;34m(\u001b[0m\u001b[0;34m)\u001b[0m\u001b[0;34m\u001b[0m\u001b[0;34m\u001b[0m\u001b[0m\n\u001b[0m",
            "\u001b[0;32m<ipython-input-25-0d00a46633cd>\u001b[0m in \u001b[0;36mrun_model\u001b[0;34m()\u001b[0m\n\u001b[1;32m     18\u001b[0m     \u001b[0mestp\u001b[0m \u001b[0;34m=\u001b[0m \u001b[0mEarlyStopping\u001b[0m\u001b[0;34m(\u001b[0m\u001b[0mmonitor\u001b[0m\u001b[0;34m=\u001b[0m\u001b[0;34m'val_loss'\u001b[0m\u001b[0;34m,\u001b[0m \u001b[0mmin_delta\u001b[0m\u001b[0;34m=\u001b[0m\u001b[0;36m0.0005\u001b[0m\u001b[0;34m,\u001b[0m\u001b[0mpatience\u001b[0m\u001b[0;34m=\u001b[0m\u001b[0;36m8\u001b[0m \u001b[0;34m,\u001b[0m \u001b[0mverbose\u001b[0m\u001b[0;34m=\u001b[0m\u001b[0;36m1\u001b[0m\u001b[0;34m,\u001b[0m \u001b[0mmode\u001b[0m\u001b[0;34m=\u001b[0m\u001b[0;34m'auto'\u001b[0m\u001b[0;34m,\u001b[0m\u001b[0mrestore_best_weights\u001b[0m\u001b[0;34m=\u001b[0m\u001b[0;32mTrue\u001b[0m\u001b[0;34m)\u001b[0m \u001b[0;31m#, callbacks = [estp]\u001b[0m\u001b[0;34m\u001b[0m\u001b[0;34m\u001b[0m\u001b[0m\n\u001b[1;32m     19\u001b[0m \u001b[0;34m\u001b[0m\u001b[0m\n\u001b[0;32m---> 20\u001b[0;31m     history = net.fit(\n\u001b[0m\u001b[1;32m     21\u001b[0m         \u001b[0;34m{\u001b[0m\u001b[0;34m\"raw\"\u001b[0m\u001b[0;34m:\u001b[0m\u001b[0mx_train_r\u001b[0m\u001b[0;34m,\u001b[0m\u001b[0;34m\"freq\"\u001b[0m\u001b[0;34m:\u001b[0m\u001b[0mx_train_f\u001b[0m\u001b[0;34m}\u001b[0m\u001b[0;34m,\u001b[0m\u001b[0;34m\u001b[0m\u001b[0;34m\u001b[0m\u001b[0m\n\u001b[1;32m     22\u001b[0m         \u001b[0my_train\u001b[0m\u001b[0;34m,\u001b[0m\u001b[0;34m\u001b[0m\u001b[0;34m\u001b[0m\u001b[0m\n",
            "\u001b[0;32m/usr/local/lib/python3.10/dist-packages/keras/utils/traceback_utils.py\u001b[0m in \u001b[0;36merror_handler\u001b[0;34m(*args, **kwargs)\u001b[0m\n\u001b[1;32m     62\u001b[0m     \u001b[0mfiltered_tb\u001b[0m \u001b[0;34m=\u001b[0m \u001b[0;32mNone\u001b[0m\u001b[0;34m\u001b[0m\u001b[0;34m\u001b[0m\u001b[0m\n\u001b[1;32m     63\u001b[0m     \u001b[0;32mtry\u001b[0m\u001b[0;34m:\u001b[0m\u001b[0;34m\u001b[0m\u001b[0;34m\u001b[0m\u001b[0m\n\u001b[0;32m---> 64\u001b[0;31m       \u001b[0;32mreturn\u001b[0m \u001b[0mfn\u001b[0m\u001b[0;34m(\u001b[0m\u001b[0;34m*\u001b[0m\u001b[0margs\u001b[0m\u001b[0;34m,\u001b[0m \u001b[0;34m**\u001b[0m\u001b[0mkwargs\u001b[0m\u001b[0;34m)\u001b[0m\u001b[0;34m\u001b[0m\u001b[0;34m\u001b[0m\u001b[0m\n\u001b[0m\u001b[1;32m     65\u001b[0m     \u001b[0;32mexcept\u001b[0m \u001b[0mException\u001b[0m \u001b[0;32mas\u001b[0m \u001b[0me\u001b[0m\u001b[0;34m:\u001b[0m  \u001b[0;31m# pylint: disable=broad-except\u001b[0m\u001b[0;34m\u001b[0m\u001b[0;34m\u001b[0m\u001b[0m\n\u001b[1;32m     66\u001b[0m       \u001b[0mfiltered_tb\u001b[0m \u001b[0;34m=\u001b[0m \u001b[0m_process_traceback_frames\u001b[0m\u001b[0;34m(\u001b[0m\u001b[0me\u001b[0m\u001b[0;34m.\u001b[0m\u001b[0m__traceback__\u001b[0m\u001b[0;34m)\u001b[0m\u001b[0;34m\u001b[0m\u001b[0;34m\u001b[0m\u001b[0m\n",
            "\u001b[0;32m/usr/local/lib/python3.10/dist-packages/keras/engine/training.py\u001b[0m in \u001b[0;36mfit\u001b[0;34m(self, x, y, batch_size, epochs, verbose, callbacks, validation_split, validation_data, shuffle, class_weight, sample_weight, initial_epoch, steps_per_epoch, validation_steps, validation_batch_size, validation_freq, max_queue_size, workers, use_multiprocessing)\u001b[0m\n\u001b[1;32m   1382\u001b[0m                 _r=1):\n\u001b[1;32m   1383\u001b[0m               \u001b[0mcallbacks\u001b[0m\u001b[0;34m.\u001b[0m\u001b[0mon_train_batch_begin\u001b[0m\u001b[0;34m(\u001b[0m\u001b[0mstep\u001b[0m\u001b[0;34m)\u001b[0m\u001b[0;34m\u001b[0m\u001b[0;34m\u001b[0m\u001b[0m\n\u001b[0;32m-> 1384\u001b[0;31m               \u001b[0mtmp_logs\u001b[0m \u001b[0;34m=\u001b[0m \u001b[0mself\u001b[0m\u001b[0;34m.\u001b[0m\u001b[0mtrain_function\u001b[0m\u001b[0;34m(\u001b[0m\u001b[0miterator\u001b[0m\u001b[0;34m)\u001b[0m\u001b[0;34m\u001b[0m\u001b[0;34m\u001b[0m\u001b[0m\n\u001b[0m\u001b[1;32m   1385\u001b[0m               \u001b[0;32mif\u001b[0m \u001b[0mdata_handler\u001b[0m\u001b[0;34m.\u001b[0m\u001b[0mshould_sync\u001b[0m\u001b[0;34m:\u001b[0m\u001b[0;34m\u001b[0m\u001b[0;34m\u001b[0m\u001b[0m\n\u001b[1;32m   1386\u001b[0m                 \u001b[0mcontext\u001b[0m\u001b[0;34m.\u001b[0m\u001b[0masync_wait\u001b[0m\u001b[0;34m(\u001b[0m\u001b[0;34m)\u001b[0m\u001b[0;34m\u001b[0m\u001b[0;34m\u001b[0m\u001b[0m\n",
            "\u001b[0;32m/usr/local/lib/python3.10/dist-packages/tensorflow/python/util/traceback_utils.py\u001b[0m in \u001b[0;36merror_handler\u001b[0;34m(*args, **kwargs)\u001b[0m\n\u001b[1;32m    148\u001b[0m     \u001b[0mfiltered_tb\u001b[0m \u001b[0;34m=\u001b[0m \u001b[0;32mNone\u001b[0m\u001b[0;34m\u001b[0m\u001b[0;34m\u001b[0m\u001b[0m\n\u001b[1;32m    149\u001b[0m     \u001b[0;32mtry\u001b[0m\u001b[0;34m:\u001b[0m\u001b[0;34m\u001b[0m\u001b[0;34m\u001b[0m\u001b[0m\n\u001b[0;32m--> 150\u001b[0;31m       \u001b[0;32mreturn\u001b[0m \u001b[0mfn\u001b[0m\u001b[0;34m(\u001b[0m\u001b[0;34m*\u001b[0m\u001b[0margs\u001b[0m\u001b[0;34m,\u001b[0m \u001b[0;34m**\u001b[0m\u001b[0mkwargs\u001b[0m\u001b[0;34m)\u001b[0m\u001b[0;34m\u001b[0m\u001b[0;34m\u001b[0m\u001b[0m\n\u001b[0m\u001b[1;32m    151\u001b[0m     \u001b[0;32mexcept\u001b[0m \u001b[0mException\u001b[0m \u001b[0;32mas\u001b[0m \u001b[0me\u001b[0m\u001b[0;34m:\u001b[0m\u001b[0;34m\u001b[0m\u001b[0;34m\u001b[0m\u001b[0m\n\u001b[1;32m    152\u001b[0m       \u001b[0mfiltered_tb\u001b[0m \u001b[0;34m=\u001b[0m \u001b[0m_process_traceback_frames\u001b[0m\u001b[0;34m(\u001b[0m\u001b[0me\u001b[0m\u001b[0;34m.\u001b[0m\u001b[0m__traceback__\u001b[0m\u001b[0;34m)\u001b[0m\u001b[0;34m\u001b[0m\u001b[0;34m\u001b[0m\u001b[0m\n",
            "\u001b[0;32m/usr/local/lib/python3.10/dist-packages/tensorflow/python/eager/def_function.py\u001b[0m in \u001b[0;36m__call__\u001b[0;34m(self, *args, **kwds)\u001b[0m\n\u001b[1;32m    913\u001b[0m \u001b[0;34m\u001b[0m\u001b[0m\n\u001b[1;32m    914\u001b[0m       \u001b[0;32mwith\u001b[0m \u001b[0mOptionalXlaContext\u001b[0m\u001b[0;34m(\u001b[0m\u001b[0mself\u001b[0m\u001b[0;34m.\u001b[0m\u001b[0m_jit_compile\u001b[0m\u001b[0;34m)\u001b[0m\u001b[0;34m:\u001b[0m\u001b[0;34m\u001b[0m\u001b[0;34m\u001b[0m\u001b[0m\n\u001b[0;32m--> 915\u001b[0;31m         \u001b[0mresult\u001b[0m \u001b[0;34m=\u001b[0m \u001b[0mself\u001b[0m\u001b[0;34m.\u001b[0m\u001b[0m_call\u001b[0m\u001b[0;34m(\u001b[0m\u001b[0;34m*\u001b[0m\u001b[0margs\u001b[0m\u001b[0;34m,\u001b[0m \u001b[0;34m**\u001b[0m\u001b[0mkwds\u001b[0m\u001b[0;34m)\u001b[0m\u001b[0;34m\u001b[0m\u001b[0;34m\u001b[0m\u001b[0m\n\u001b[0m\u001b[1;32m    916\u001b[0m \u001b[0;34m\u001b[0m\u001b[0m\n\u001b[1;32m    917\u001b[0m       \u001b[0mnew_tracing_count\u001b[0m \u001b[0;34m=\u001b[0m \u001b[0mself\u001b[0m\u001b[0;34m.\u001b[0m\u001b[0mexperimental_get_tracing_count\u001b[0m\u001b[0;34m(\u001b[0m\u001b[0;34m)\u001b[0m\u001b[0;34m\u001b[0m\u001b[0;34m\u001b[0m\u001b[0m\n",
            "\u001b[0;32m/usr/local/lib/python3.10/dist-packages/tensorflow/python/eager/def_function.py\u001b[0m in \u001b[0;36m_call\u001b[0;34m(self, *args, **kwds)\u001b[0m\n\u001b[1;32m    945\u001b[0m       \u001b[0;31m# In this case we have created variables on the first call, so we run the\u001b[0m\u001b[0;34m\u001b[0m\u001b[0;34m\u001b[0m\u001b[0m\n\u001b[1;32m    946\u001b[0m       \u001b[0;31m# defunned version which is guaranteed to never create variables.\u001b[0m\u001b[0;34m\u001b[0m\u001b[0;34m\u001b[0m\u001b[0m\n\u001b[0;32m--> 947\u001b[0;31m       \u001b[0;32mreturn\u001b[0m \u001b[0mself\u001b[0m\u001b[0;34m.\u001b[0m\u001b[0m_stateless_fn\u001b[0m\u001b[0;34m(\u001b[0m\u001b[0;34m*\u001b[0m\u001b[0margs\u001b[0m\u001b[0;34m,\u001b[0m \u001b[0;34m**\u001b[0m\u001b[0mkwds\u001b[0m\u001b[0;34m)\u001b[0m  \u001b[0;31m# pylint: disable=not-callable\u001b[0m\u001b[0;34m\u001b[0m\u001b[0;34m\u001b[0m\u001b[0m\n\u001b[0m\u001b[1;32m    948\u001b[0m     \u001b[0;32melif\u001b[0m \u001b[0mself\u001b[0m\u001b[0;34m.\u001b[0m\u001b[0m_stateful_fn\u001b[0m \u001b[0;32mis\u001b[0m \u001b[0;32mnot\u001b[0m \u001b[0;32mNone\u001b[0m\u001b[0;34m:\u001b[0m\u001b[0;34m\u001b[0m\u001b[0;34m\u001b[0m\u001b[0m\n\u001b[1;32m    949\u001b[0m       \u001b[0;31m# Release the lock early so that multiple threads can perform the call\u001b[0m\u001b[0;34m\u001b[0m\u001b[0;34m\u001b[0m\u001b[0m\n",
            "\u001b[0;32m/usr/local/lib/python3.10/dist-packages/tensorflow/python/eager/function.py\u001b[0m in \u001b[0;36m__call__\u001b[0;34m(self, *args, **kwargs)\u001b[0m\n\u001b[1;32m   2954\u001b[0m       (graph_function,\n\u001b[1;32m   2955\u001b[0m        filtered_flat_args) = self._maybe_define_function(args, kwargs)\n\u001b[0;32m-> 2956\u001b[0;31m     return graph_function._call_flat(\n\u001b[0m\u001b[1;32m   2957\u001b[0m         filtered_flat_args, captured_inputs=graph_function.captured_inputs)  # pylint: disable=protected-access\n\u001b[1;32m   2958\u001b[0m \u001b[0;34m\u001b[0m\u001b[0m\n",
            "\u001b[0;32m/usr/local/lib/python3.10/dist-packages/tensorflow/python/eager/function.py\u001b[0m in \u001b[0;36m_call_flat\u001b[0;34m(self, args, captured_inputs, cancellation_manager)\u001b[0m\n\u001b[1;32m   1851\u001b[0m         and executing_eagerly):\n\u001b[1;32m   1852\u001b[0m       \u001b[0;31m# No tape is watching; skip to running the function.\u001b[0m\u001b[0;34m\u001b[0m\u001b[0;34m\u001b[0m\u001b[0m\n\u001b[0;32m-> 1853\u001b[0;31m       return self._build_call_outputs(self._inference_function.call(\n\u001b[0m\u001b[1;32m   1854\u001b[0m           ctx, args, cancellation_manager=cancellation_manager))\n\u001b[1;32m   1855\u001b[0m     forward_backward = self._select_forward_and_backward_functions(\n",
            "\u001b[0;32m/usr/local/lib/python3.10/dist-packages/tensorflow/python/eager/function.py\u001b[0m in \u001b[0;36mcall\u001b[0;34m(self, ctx, args, cancellation_manager)\u001b[0m\n\u001b[1;32m    497\u001b[0m       \u001b[0;32mwith\u001b[0m \u001b[0m_InterpolateFunctionError\u001b[0m\u001b[0;34m(\u001b[0m\u001b[0mself\u001b[0m\u001b[0;34m)\u001b[0m\u001b[0;34m:\u001b[0m\u001b[0;34m\u001b[0m\u001b[0;34m\u001b[0m\u001b[0m\n\u001b[1;32m    498\u001b[0m         \u001b[0;32mif\u001b[0m \u001b[0mcancellation_manager\u001b[0m \u001b[0;32mis\u001b[0m \u001b[0;32mNone\u001b[0m\u001b[0;34m:\u001b[0m\u001b[0;34m\u001b[0m\u001b[0;34m\u001b[0m\u001b[0m\n\u001b[0;32m--> 499\u001b[0;31m           outputs = execute.execute(\n\u001b[0m\u001b[1;32m    500\u001b[0m               \u001b[0mstr\u001b[0m\u001b[0;34m(\u001b[0m\u001b[0mself\u001b[0m\u001b[0;34m.\u001b[0m\u001b[0msignature\u001b[0m\u001b[0;34m.\u001b[0m\u001b[0mname\u001b[0m\u001b[0;34m)\u001b[0m\u001b[0;34m,\u001b[0m\u001b[0;34m\u001b[0m\u001b[0;34m\u001b[0m\u001b[0m\n\u001b[1;32m    501\u001b[0m               \u001b[0mnum_outputs\u001b[0m\u001b[0;34m=\u001b[0m\u001b[0mself\u001b[0m\u001b[0;34m.\u001b[0m\u001b[0m_num_outputs\u001b[0m\u001b[0;34m,\u001b[0m\u001b[0;34m\u001b[0m\u001b[0;34m\u001b[0m\u001b[0m\n",
            "\u001b[0;32m/usr/local/lib/python3.10/dist-packages/tensorflow/python/eager/execute.py\u001b[0m in \u001b[0;36mquick_execute\u001b[0;34m(op_name, num_outputs, inputs, attrs, ctx, name)\u001b[0m\n\u001b[1;32m     52\u001b[0m   \u001b[0;32mtry\u001b[0m\u001b[0;34m:\u001b[0m\u001b[0;34m\u001b[0m\u001b[0;34m\u001b[0m\u001b[0m\n\u001b[1;32m     53\u001b[0m     \u001b[0mctx\u001b[0m\u001b[0;34m.\u001b[0m\u001b[0mensure_initialized\u001b[0m\u001b[0;34m(\u001b[0m\u001b[0;34m)\u001b[0m\u001b[0;34m\u001b[0m\u001b[0;34m\u001b[0m\u001b[0m\n\u001b[0;32m---> 54\u001b[0;31m     tensors = pywrap_tfe.TFE_Py_Execute(ctx._handle, device_name, op_name,\n\u001b[0m\u001b[1;32m     55\u001b[0m                                         inputs, attrs, num_outputs)\n\u001b[1;32m     56\u001b[0m   \u001b[0;32mexcept\u001b[0m \u001b[0mcore\u001b[0m\u001b[0;34m.\u001b[0m\u001b[0m_NotOkStatusException\u001b[0m \u001b[0;32mas\u001b[0m \u001b[0me\u001b[0m\u001b[0;34m:\u001b[0m\u001b[0;34m\u001b[0m\u001b[0;34m\u001b[0m\u001b[0m\n",
            "\u001b[0;31mKeyboardInterrupt\u001b[0m: "
          ]
        }
      ]
    },
    {
      "cell_type": "code",
      "source": [
        "del x, raw_model, raw_input, raw_output, raw, output, input_freq, input_raw, net"
      ],
      "metadata": {
        "id": "y1JvqkHDbm0-"
      },
      "id": "y1JvqkHDbm0-",
      "execution_count": null,
      "outputs": []
    },
    {
      "cell_type": "code",
      "source": [
        "del concat, data, freq, freq_input, freq_model, freq_output, hidden, i"
      ],
      "metadata": {
        "id": "T5xffVUNg1I9"
      },
      "id": "T5xffVUNg1I9",
      "execution_count": null,
      "outputs": []
    },
    {
      "cell_type": "code",
      "execution_count": null,
      "id": "8832fa2a-799c-427b-b5c8-65006c719911",
      "metadata": {
        "id": "8832fa2a-799c-427b-b5c8-65006c719911",
        "colab": {
          "base_uri": "https://localhost:8080/"
        },
        "outputId": "0df5a205-1d75-44e9-a126-d9a204d99911"
      },
      "outputs": [
        {
          "output_type": "stream",
          "name": "stdout",
          "text": [
            "Accuracy on test set: [1.8777713775634766, 0.5373568534851074]\n",
            "Test loss: 1.8777713775634766\n",
            "Test accuracy: 0.5373568534851074\n"
          ]
        }
      ],
      "source": [
        "# results = model.evaluate(x_test, y_test)\n",
        "print (\"Accuracy on test set:\" , results)\n",
        "print('Test loss:', results[0])\n",
        "print('Test accuracy:', results[1])"
      ]
    },
    {
      "cell_type": "code",
      "execution_count": null,
      "id": "f1b0f1f9-ca74-41b9-87e8-b822bebfa6d3",
      "metadata": {
        "id": "f1b0f1f9-ca74-41b9-87e8-b822bebfa6d3"
      },
      "outputs": [],
      "source": [
        "net2 = tf.keras.models.load_model(\"/content/drive/MyDrive/Sayantika/model_4_class\")"
      ]
    },
    {
      "cell_type": "code",
      "source": [
        "accuracy = np.loadtxt(\"/content/drive/MyDrive/Sayantika/model_4_class/4C_train_acc.txt\")\n",
        "val_accuracy = np.loadtxt(\"/content/drive/MyDrive/Sayantika/model_4_class/4C_val_acc.txt\")\n",
        "loss = np.loadtxt(\"/content/drive/MyDrive/Sayantika/model_4_class/4C_train_loss.txt\")\n",
        "val_loss = np.loadtxt(\"/content/drive/MyDrive/Sayantika/model_4_class/4C_val_loss.txt\")"
      ],
      "metadata": {
        "id": "WfRgnESiLvnI"
      },
      "id": "WfRgnESiLvnI",
      "execution_count": null,
      "outputs": []
    },
    {
      "cell_type": "code",
      "execution_count": null,
      "id": "1ee42804-0842-4712-bd50-38c75ee16aac",
      "metadata": {
        "id": "1ee42804-0842-4712-bd50-38c75ee16aac"
      },
      "outputs": [],
      "source": [
        "#PLOT TRAINING CURVES\n",
        "# val_loss = history.history['val_loss']\n",
        "# loss = history.history['loss']\n",
        "# accuracy = history.history['accuracy']\n",
        "# val_accuracy = history.history['val_accuracy']\n",
        "epochs = range(1, len(accuracy) + 1)\n",
        "\n",
        "# plt.rcParams['figure.figsize'] = [ 10,8]\n",
        "plt.rcParams['figure.figsize'] = [10, 5]\n",
        "ax=plt.subplot(1, 2, 1)\n",
        "plt.plot(epochs, loss, 'b', label='Training loss', color='red')\n",
        "ax.tick_params(axis=\"x\", labelsize=15)\n",
        "ax.tick_params(axis=\"y\", labelsize=15)\n",
        "plt.plot(epochs,val_loss , 'b', label='Validation loss', color='green')\n",
        "plt.title('Training and validation loss',fontsize=15)\n",
        "plt.xlabel('Epochs',fontsize=16)\n",
        "plt.ylabel('Loss',fontsize=16)\n",
        "plt.legend()\n",
        "\n",
        "ax=plt.subplot(1, 2, 2)\n",
        "plt.plot(epochs, accuracy, 'b', label='Training acc', color='red')\n",
        "plt.plot(epochs, val_accuracy, 'b', label='Validation acc', color='green')\n",
        "ax.tick_params(axis=\"x\", labelsize=18)\n",
        "ax.tick_params(axis=\"y\", labelsize=18)\n",
        "plt.title('Training and validation accuracy', fontsize=15)\n",
        "plt.xlabel('Epochs',fontsize=18)\n",
        "plt.ylabel('Accuracy',fontsize=18)\n",
        "plt.legend()\n",
        "plt.tight_layout()\n",
        "plt.show()"
      ]
    },
    {
      "cell_type": "code",
      "source": [
        "# save the plot varriables\n",
        "train_loss=history.history['loss']; filepath_tloss='/content/drive/MyDrive/Sayantika/model_10_class_8744/train_loss.txt'; np.savetxt(filepath_tloss,train_loss)\n",
        "val_loss=history.history['val_loss']; filepath_vloss='/content/drive/MyDrive/Sayantika/model_10_class_8744/val_loss.txt'; np.savetxt(filepath_vloss,val_loss)\n",
        "acc=history.history['accuracy'];      filepath_tacc='/content/drive/MyDrive/Sayantika/model_10_class_8744/train_acc.txt'; np.savetxt(filepath_tacc,acc)\n",
        "val_acc=history.history['val_accuracy']; filepath_vacc='/content/drive/MyDrive/Sayantika/model_10_class_8744/val_acc.txt'; np.savetxt(filepath_vacc,val_acc)"
      ],
      "metadata": {
        "id": "XW4Z6jKlN0Ly"
      },
      "id": "XW4Z6jKlN0Ly",
      "execution_count": null,
      "outputs": []
    },
    {
      "cell_type": "code",
      "source": [
        "net.save('/content/drive/MyDrive/Sayantika/model_10_class_8744') #save model"
      ],
      "metadata": {
        "id": "EGeXuJSnPyaG"
      },
      "id": "EGeXuJSnPyaG",
      "execution_count": null,
      "outputs": []
    },
    {
      "cell_type": "code",
      "execution_count": null,
      "id": "b62019be-9d52-4826-a6fc-c7609dd55842",
      "metadata": {
        "id": "b62019be-9d52-4826-a6fc-c7609dd55842"
      },
      "outputs": [],
      "source": [
        "# prediction using CNN\n",
        "predicted=net2.predict({\"raw\":x_test_r,\"freq\":x_test_f})\n",
        "Y_pred=predicted.argmax(axis=-1)\n",
        "\n",
        "Y_true = decode(y_test)\n",
        "Y_true.shape"
      ]
    },
    {
      "cell_type": "code",
      "source": [
        "q=np.array(Y_pred) #2-class\n",
        "label_l=[]\n",
        "for i in range (q.shape[0]):\n",
        "  if q[i]==0:\n",
        "    label_l.append('No Drone')\n",
        "  elif q[i]==1:\n",
        "    label_l.append('Drone')\n",
        "\n",
        "Label_ar=np.array(label_l)"
      ],
      "metadata": {
        "id": "3oxee_YobjNL"
      },
      "id": "3oxee_YobjNL",
      "execution_count": null,
      "outputs": []
    },
    {
      "cell_type": "code",
      "source": [
        "q=np.array(Y_pred) #4-class\n",
        "label_l=[]\n",
        "for i in range (q.shape[0]):\n",
        "  if q[i]==0:\n",
        "    label_l.append('No Drone')\n",
        "  elif q[i]==1:\n",
        "    label_l.append('Bebop')\n",
        "  elif q[i]==2:\n",
        "    label_l.append('AR')\n",
        "  elif q[i]==3:\n",
        "    label_l.append('Phantom')\n",
        "\n",
        "Label_ar=np.array(label_l)"
      ],
      "metadata": {
        "id": "jbgAI1DxcLnp"
      },
      "execution_count": null,
      "outputs": [],
      "id": "jbgAI1DxcLnp"
    },
    {
      "cell_type": "code",
      "source": [
        "q=np.array(Y_pred) #10-class ','Bebop m2', 'Bebop m3', 'Bebop m4', 'AR m1', 'AR m2', 'AR m3', 'AR m4', 'Phantom m1\n",
        "label_l=[]\n",
        "for i in range (q.shape[0]):\n",
        "  if q[i]==0:\n",
        "    label_l.append('No Drone')\n",
        "  elif q[i]==1:\n",
        "    label_l.append('Bebop m1')\n",
        "  elif q[i]==2:\n",
        "    label_l.append('Bebop m2')\n",
        "  elif q[i]==3:\n",
        "    label_l.append('Bebop m3')\n",
        "  elif q[i]==4:\n",
        "    label_l.append('Bebop m4')\n",
        "  elif q[i]==5:\n",
        "    label_l.append('AR m1')\n",
        "  elif q[i]==6:\n",
        "    label_l.append('AR m2')\n",
        "  elif q[i]==7:\n",
        "    label_l.append('AR m3')\n",
        "  elif q[i]==8:\n",
        "    label_l.append('AR m4')\n",
        "  elif q[i]==9:\n",
        "    label_l.append('Phantom m1')\n",
        "\n",
        "Label_ar=np.array(label_l)"
      ],
      "metadata": {
        "id": "kKdXACNgcMAL"
      },
      "execution_count": null,
      "outputs": [],
      "id": "kKdXACNgcMAL"
    },
    {
      "cell_type": "code",
      "execution_count": null,
      "id": "c1684718-0f0d-46bb-a98c-d34c6bb53727",
      "metadata": {
        "id": "c1684718-0f0d-46bb-a98c-d34c6bb53727"
      },
      "outputs": [],
      "source": [
        "#TSNE PLOTS\n",
        "import seaborn as sns\n",
        "from sklearn.manifold import TSNE\n",
        "# out_dense= keras.Model(inputs=model.input,outputs=model.get_layer('dense_5').output)\n",
        "# Y_denseout = out_dense.predict(x_test) #predicted Y\n",
        "\n",
        "tsne = TSNE(n_components=2,learning_rate='auto',init='random')\n",
        "Y_embedded = tsne.fit_transform(predicted)\n",
        "plt.figure(figsize=(10,8))\n",
        "sns.scatterplot(Y_embedded[:,0], Y_embedded[:,1], hue=Label_ar)\n",
        "plt.xlabel(\"Dimension 1\",fontweight ='bold', fontsize = 15);\n",
        "plt.ylabel(\"Dimenssion 2\",fontweight ='bold', fontsize = 15)\n",
        "plt.title('t-SNE plot After applying Lightweight CNN',fontweight ='bold', fontsize = 15)"
      ]
    },
    {
      "cell_type": "code",
      "execution_count": null,
      "metadata": {
        "id": "y7sRfDQJyskv"
      },
      "outputs": [],
      "source": [
        "from sklearn.metrics import confusion_matrix\n",
        "cm3=confusion_matrix(Y_true,Y_pred)\n",
        "cm_norm3=confusion_matrix(Y_true,Y_pred,normalize='true')\n",
        "print(cm3)  #10 class\n",
        "cm_norm3 = cm_norm3*100\n",
        "cm_norm3=np.round_(cm_norm3,decimals=2)\n",
        "print(cm_norm3)"
      ],
      "id": "y7sRfDQJyskv"
    },
    {
      "cell_type": "code",
      "execution_count": null,
      "id": "4a121db0-0ce5-48a2-a0c1-10a37dfa51e8",
      "metadata": {
        "id": "4a121db0-0ce5-48a2-a0c1-10a37dfa51e8"
      },
      "outputs": [],
      "source": [
        "from sklearn.metrics import confusion_matrix\n",
        "cm=confusion_matrix(Y_true,Y_pred)\n",
        "cm_norm=confusion_matrix(Y_true,Y_pred,normalize='true')\n",
        "print(cm)  #4 class"
      ]
    },
    {
      "cell_type": "code",
      "source": [
        "from sklearn.metrics import confusion_matrix\n",
        "cm1=confusion_matrix(Y_true,Y_pred)\n",
        "cm_norm1=confusion_matrix(Y_true,Y_pred,normalize='true')\n",
        "print(cm1)\n",
        "print(cm_norm1) #2 class"
      ],
      "metadata": {
        "id": "Gp_-c2O0R9ue"
      },
      "id": "Gp_-c2O0R9ue",
      "execution_count": null,
      "outputs": []
    },
    {
      "cell_type": "code",
      "source": [
        "cm_norm #4 class"
      ],
      "metadata": {
        "id": "yQvG4c4zNnqD"
      },
      "id": "yQvG4c4zNnqD",
      "execution_count": null,
      "outputs": []
    },
    {
      "cell_type": "code",
      "execution_count": null,
      "id": "355230c7-3cd8-407b-97b7-a12a75186295",
      "metadata": {
        "id": "355230c7-3cd8-407b-97b7-a12a75186295"
      },
      "outputs": [],
      "source": [
        "cm_norm2 = np.array([[0.9975,0.0025,0,0],[0,0.9771,0.018,0.0049],[0,0.0024,0.9896,0.0084],[0,0,0.015,0.985]])\n",
        "cm_norm2 = cm_norm2*100\n",
        "cm_norm2"
      ]
    },
    {
      "cell_type": "code",
      "execution_count": null,
      "id": "0e2e2256-f84b-419c-9b68-54b35cb741f6",
      "metadata": {
        "id": "0e2e2256-f84b-419c-9b68-54b35cb741f6"
      },
      "outputs": [],
      "source": [
        "cm_norm1 = np.array([[0.9952,0.0048],[0.0011,0.9989]])\n",
        "cm_norm1= cm_norm1*100\n",
        "cm_norm1"
      ]
    },
    {
      "cell_type": "code",
      "execution_count": null,
      "id": "06a32ca9-0097-4051-a882-62d2ea0a258b",
      "metadata": {
        "id": "06a32ca9-0097-4051-a882-62d2ea0a258b"
      },
      "outputs": [],
      "source": [
        "cm_norm3 = np.array([[0.99,0,0,0,0,0,0,0.0024,0.0072,0],\n",
        "                    [0,0.54,0.29,0.0045,0,0.12,0,0.0045,0.036,0.0045],\n",
        "                    [0,0.34,0.55,0.02,0,0.087,0.0051,0,0,0],\n",
        "                    [0,0.067,0.12,0.75,0.9,0.015,0,0.0049,0.039,0.0049],\n",
        "                    [0,0,0.024,0.015,0.9,0.015,0,0.0049,0.039,0.0049],\n",
        "                    [0,0.0047,0.0047,0,0,0.99,0,0.0047,0,0],\n",
        "                    [0,0,0,0,0,0.036,0.92,0.009,0.027,0.0045],\n",
        "                    [0,0.0047,0,0,0,0.0047,0.0093,0.89,0.088,0],\n",
        "                    [0,0,0,0,0,0.011,0.038,0.46,0.49,0],\n",
        "                    [0.0049,0,0,0,0,0,0.015,0,0.0049,0.98]])\n",
        "cm_norm3= cm_norm3*100\n",
        "cm_norm3 = np.round_(cm_norm3, decimals = 2 )\n",
        "cm_norm3"
      ]
    },
    {
      "cell_type": "code",
      "source": [
        "filepath_cm='/content/drive/MyDrive/Sayantika/cm_10class_86.txt';\n",
        "np.savetxt(filepath_cm,cm3)"
      ],
      "metadata": {
        "id": "WkEAMwy52TYD"
      },
      "id": "WkEAMwy52TYD",
      "execution_count": null,
      "outputs": []
    },
    {
      "cell_type": "code",
      "execution_count": null,
      "id": "3c9576b6-360a-4e95-b569-5dd9839d5bb2",
      "metadata": {
        "id": "3c9576b6-360a-4e95-b569-5dd9839d5bb2"
      },
      "outputs": [],
      "source": [
        "#MULTICLASS CLASSIFICATION\n",
        "from sklearn.metrics import accuracy_score\n",
        "from sklearn.metrics import precision_score\n",
        "from sklearn.metrics import recall_score\n",
        "from sklearn.metrics import f1_score\n",
        "\n",
        "# accuracy: (tp + tn) / (p + n)\n",
        "accuracy = accuracy_score(Y_true, Y_pred)\n",
        "print('Accuracy: %f' % accuracy)\n",
        "# precision tp / (tp + fp)\n",
        "precision = precision_score(Y_true, Y_pred, average=None)\n",
        "avg_precision = precision_score(Y_true, Y_pred, average='macro')\n",
        "print('Precision:')\n",
        "print(precision)\n",
        "print(avg_precision)\n",
        "\n",
        "# recall: tp / (tp + fn)\n",
        "recall = recall_score(Y_true, Y_pred, average=None)\n",
        "avg_recall = recall_score(Y_true, Y_pred, average='macro')\n",
        "print('Recall:')\n",
        "print(recall)\n",
        "print(avg_recall)\n",
        "\n",
        "# f1: 2 tp / (2 tp + fp + fn)\n",
        "f1 = f1_score(Y_true, Y_pred, average=None)\n",
        "avg_f1 = f1_score(Y_true, Y_pred, average='macro')\n",
        "print('F1 score:')\n",
        "print(f1)\n",
        "print(avg_f1)\n"
      ]
    },
    {
      "cell_type": "code",
      "execution_count": null,
      "id": "a52ec01e-5b57-41cf-976b-1660ae23aaf8",
      "metadata": {
        "id": "a52ec01e-5b57-41cf-976b-1660ae23aaf8"
      },
      "outputs": [],
      "source": [
        "#BINARY CLASSIFICATION\n",
        "from sklearn.metrics import accuracy_score\n",
        "from sklearn.metrics import precision_score\n",
        "from sklearn.metrics import recall_score\n",
        "from sklearn.metrics import f1_score\n",
        "\n",
        "# accuracy: (tp + tn) / (p + n)\n",
        "accuracy = accuracy_score(Y_true, Y_pred)\n",
        "print('Accuracy: %f' % accuracy)\n",
        "# precision tp / (tp + fp)\n",
        "precision = precision_score(Y_true, Y_pred)\n",
        "print('Precision: %f' % precision)\n",
        "\n",
        "# recall: tp / (tp + fn)\n",
        "recall = recall_score(Y_true, Y_pred)\n",
        "print('Recall: %f' % recall)\n",
        "\n",
        "# f1: 2 tp / (2 tp + fp + fn)\n",
        "f1 = f1_score(Y_true, Y_pred)\n",
        "print('F1 score: %f' % f1)\n"
      ]
    },
    {
      "cell_type": "code",
      "execution_count": null,
      "id": "1c65e493-c289-4544-ac53-3e5cac03d193",
      "metadata": {
        "id": "1c65e493-c289-4544-ac53-3e5cac03d193"
      },
      "outputs": [],
      "source": [
        "import pandas as pd\n",
        "import seaborn as sns\n",
        "\n",
        "plt.figure(figsize=(35,10))\n",
        "# plt.figure(figsize=(10,10))\n",
        "\n",
        "sns.set(font_scale=1.3)\n",
        "\n",
        "cm_df_norm1 = pd.DataFrame(cm_norm1,\n",
        "                     index = ['No Drone','Drone'],\n",
        "                     columns = ['No Drone','Drone'])\n",
        "plt.subplot(131)\n",
        "sns.heatmap(cm_df_norm1,annot=True, fmt='g', cbar = False)\n",
        "plt.title('Normalised Confusion Matrix (%)')\n",
        "plt.ylabel('Actual Class')\n",
        "plt.xlabel('Predicted Class')\n",
        "\n",
        "cm_df_norm2 = pd.DataFrame(cm_norm2,\n",
        "                     index = ['No Drone','Bebop', 'AR', 'Phantom'],\n",
        "                     columns = ['No Drone','Bebop', 'AR', 'Phantom'])\n",
        "plt.subplot(132)\n",
        "sns.heatmap(cm_df_norm2,annot=True, fmt='g', cbar = False)\n",
        "plt.title('Normalised Confusion Matrix (%)')\n",
        "plt.ylabel('Actual Class')\n",
        "plt.xlabel('Predicted Class')\n",
        "\n",
        "cm_df_norm3 = pd.DataFrame(cm_norm3,\n",
        "                     index = ['No Drone','Bebop m1','Bebop m2', 'Bebop m3', 'Bebop m4', 'AR m1', 'AR m2', 'AR m3', 'AR m4', 'Phantom m1'],\n",
        "                     columns = ['No Drone','Bebop m1','Bebop m2', 'Bebop m3', 'Bebop m4', 'AR m1', 'AR m2', 'AR m3', 'AR m4', 'Phantom m1'])\n",
        "plt.subplot(133)\n",
        "sns.heatmap(cm_df_norm3,annot=True, fmt = \"g\", cbar = False)\n",
        "plt.title('Normalised Confusion Matrix (%)')\n",
        "plt.ylabel('Actual Class')\n",
        "plt.xlabel('Predicted Class')\n",
        "\n",
        "# plt.subplots_adjust(left=0.1,\n",
        "#                     # bottom=0.1,\n",
        "#                     # right=0.9\n",
        "#                     # top=0.9,\n",
        "#                     wspace=0.3)\n",
        "#                     # hspace=0.4)\n",
        "plt.show()\n",
        "\n",
        "# print(cm)"
      ]
    },
    {
      "cell_type": "code",
      "source": [
        "plt.figure(figsize=(30,10))\n",
        "cm_df_norm3 = pd.DataFrame(cm_norm3,\n",
        "                     index = ['No Drone','Bebop m1','Bebop m2', 'Bebop m3', 'Bebop m4', 'AR m1', 'AR m2', 'AR m3', 'AR m4', 'Phantom m1'],\n",
        "                     columns = ['No Drone','Bebop m1','Bebop m2', 'Bebop m3', 'Bebop m4', 'AR m1', 'AR m2', 'AR m3', 'AR m4', 'Phantom m1'])\n",
        "sns.heatmap(cm_df_norm3,annot=True, fmt='g', cbar = False)\n",
        "plt.title('Normalised Confusion Matrix (%)')\n",
        "plt.ylabel('Actual Class')\n",
        "plt.xlabel('Predicted Class')\n",
        "plt.show()"
      ],
      "metadata": {
        "id": "QsI0Rav33GST"
      },
      "id": "QsI0Rav33GST",
      "execution_count": null,
      "outputs": []
    }
  ],
  "metadata": {
    "kernelspec": {
      "display_name": "Python 3",
      "name": "python3"
    },
    "language_info": {
      "codemirror_mode": {
        "name": "ipython",
        "version": 3
      },
      "file_extension": ".py",
      "mimetype": "text/x-python",
      "name": "python",
      "nbconvert_exporter": "python",
      "pygments_lexer": "ipython3",
      "version": "3.9.12"
    },
    "colab": {
      "provenance": [],
      "machine_shape": "hm",
      "gpuType": "T4",
      "include_colab_link": true
    }
  },
  "nbformat": 4,
  "nbformat_minor": 5
}