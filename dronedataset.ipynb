{
  "cells": [
    {
      "cell_type": "markdown",
      "metadata": {
        "id": "view-in-github",
        "colab_type": "text"
      },
      "source": [
        "<a href=\"https://colab.research.google.com/github/Nandu-kannan/test/blob/main/dronedataset.ipynb\" target=\"_parent\"><img src=\"https://colab.research.google.com/assets/colab-badge.svg\" alt=\"Open In Colab\"/></a>"
      ]
    },
    {
      "cell_type": "code",
      "execution_count": null,
      "metadata": {
        "colab": {
          "base_uri": "https://localhost:8080/"
        },
        "id": "zPkr7TIjLT1k",
        "outputId": "2546be76-446c-4346-decb-970211c6fc2d"
      },
      "outputs": [
        {
          "name": "stdout",
          "output_type": "stream",
          "text": [
            "/usr/local/lib/python3.10/dist-packages/gdown/cli.py:121: FutureWarning: Option `--id` was deprecated in version 4.3.1 and will be removed in 5.0. You don't need to pass it anymore to use a file ID.\n",
            "  warnings.warn(\n",
            "Access denied with the following error:\n",
            "\n",
            " \tCannot retrieve the public link of the file. You may need to change\n",
            "\tthe permission to 'Anyone with the link', or have had many accesses. \n",
            "\n",
            "You may still be able to access the file from the browser:\n",
            "\n",
            "\t https://drive.google.com/uc?id=https://drive.google.com/file/d/1n6I4y3gFKoQ5CXRUSgt9HsdJA8K40ur3/view?usp=share_link \n",
            "\n"
          ]
        }
      ],
      "source": [
        "! gdown --id https://drive.google.com/file/d/1n6I4y3gFKoQ5CXRUSgt9HsdJA8K40ur3/view?usp=share_link"
      ]
    },
    {
      "cell_type": "code",
      "execution_count": 10,
      "metadata": {
        "colab": {
          "base_uri": "https://localhost:8080/"
        },
        "id": "5xbE7TSYRvnc",
        "outputId": "bdc329af-d44b-461e-e30b-7d9f5c71178f"
      },
      "outputs": [
        {
          "output_type": "stream",
          "name": "stdout",
          "text": [
            "/usr/local/lib/python3.10/dist-packages/gdown/cli.py:121: FutureWarning: Option `--id` was deprecated in version 4.3.1 and will be removed in 5.0. You don't need to pass it anymore to use a file ID.\n",
            "  warnings.warn(\n",
            "Downloading...\n",
            "From: https://drive.google.com/uc?id=1n6I4y3gFKoQ5CXRUSgt9HsdJA8K40ur3\n",
            "To: /root/f4c2b4n755-1.zip\n",
            "100% 4.03G/4.03G [01:07<00:00, 59.6MB/s]\n"
          ]
        }
      ],
      "source": [
        "! gdown --id 1n6I4y3gFKoQ5CXRUSgt9HsdJA8K40ur3"
      ]
    },
    {
      "cell_type": "code",
      "execution_count": null,
      "metadata": {
        "colab": {
          "base_uri": "https://localhost:8080/"
        },
        "id": "h1yLZXEOUcNu",
        "outputId": "a9e2f5a8-1010-4777-c1da-318845261d60"
      },
      "outputs": [
        {
          "name": "stdout",
          "output_type": "stream",
          "text": [
            "unzip:  cannot find or open data.zip, data.zip.zip or data.zip.ZIP.\n"
          ]
        }
      ],
      "source": [
        "!unzip data.zip -d D:\\IIT PATNA"
      ]
    },
    {
      "cell_type": "code",
      "execution_count": 11,
      "metadata": {
        "colab": {
          "base_uri": "https://localhost:8080/"
        },
        "id": "agkflfGWVGo5",
        "outputId": "4dec14e1-0c64-4e4b-9cd8-998cba9a186a"
      },
      "outputs": [
        {
          "output_type": "stream",
          "name": "stdout",
          "text": [
            "Looking in indexes: https://pypi.org/simple, https://us-python.pkg.dev/colab-wheels/public/simple/\n",
            "Requirement already satisfied: patool in /usr/local/lib/python3.10/dist-packages (1.12)\n"
          ]
        }
      ],
      "source": [
        "!pip install patool"
      ]
    },
    {
      "cell_type": "code",
      "execution_count": 12,
      "metadata": {
        "id": "HTirGEWYVM2G"
      },
      "outputs": [],
      "source": [
        "import patoolib"
      ]
    },
    {
      "cell_type": "code",
      "execution_count": 13,
      "metadata": {
        "colab": {
          "base_uri": "https://localhost:8080/",
          "height": 88
        },
        "id": "EdEnEm5hVTOb",
        "outputId": "aec69cf7-fca5-4699-942e-09bb5d8a0aef"
      },
      "outputs": [
        {
          "output_type": "stream",
          "name": "stdout",
          "text": [
            "patool: Extracting f4c2b4n755-1.zip ...\n",
            "patool: running /usr/bin/7z x -o./Unpack_1o3p7_wh -- f4c2b4n755-1.zip\n",
            "patool: ... f4c2b4n755-1.zip extracted to `DroneRF'.\n"
          ]
        },
        {
          "output_type": "execute_result",
          "data": {
            "text/plain": [
              "'DroneRF'"
            ],
            "application/vnd.google.colaboratory.intrinsic+json": {
              "type": "string"
            }
          },
          "metadata": {},
          "execution_count": 13
        }
      ],
      "source": [
        "patoolib.extract_archive('f4c2b4n755-1.zip')"
      ]
    },
    {
      "cell_type": "code",
      "source": [
        "from google.colab import drive\n",
        "drive.mount('/content/drive')"
      ],
      "metadata": {
        "id": "AdO3zBXdYE7x"
      },
      "execution_count": null,
      "outputs": []
    },
    {
      "cell_type": "code",
      "execution_count": 14,
      "metadata": {
        "colab": {
          "base_uri": "https://localhost:8080/"
        },
        "id": "1zdRaP5wWD2u",
        "outputId": "88312792-73ec-405f-b0cc-aaea7f4e5b19"
      },
      "outputs": [
        {
          "output_type": "stream",
          "name": "stdout",
          "text": [
            "\u001b[0m\u001b[01;34mDroneRF\u001b[0m/  f4c2b4n755-1.zip\n"
          ]
        }
      ],
      "source": [
        "ls \n"
      ]
    },
    {
      "cell_type": "code",
      "execution_count": 15,
      "metadata": {
        "colab": {
          "base_uri": "https://localhost:8080/"
        },
        "id": "6F9m0cERWIGA",
        "outputId": "6b5ed2ec-c916-4226-d5ca-01d71fed914f"
      },
      "outputs": [
        {
          "output_type": "stream",
          "name": "stdout",
          "text": [
            "/root/DroneRF\n"
          ]
        }
      ],
      "source": [
        "cd DroneRF"
      ]
    },
    {
      "cell_type": "code",
      "execution_count": 16,
      "metadata": {
        "colab": {
          "base_uri": "https://localhost:8080/"
        },
        "id": "T76KkHAAWOqg",
        "outputId": "8f04e888-42c6-424e-b74d-0d08d88670f5"
      },
      "outputs": [
        {
          "output_type": "stream",
          "name": "stdout",
          "text": [
            "\u001b[0m\u001b[01;34m'AR drone'\u001b[0m/  \u001b[01;34m'Background RF activites'\u001b[0m/  \u001b[01;34m'Bepop drone'\u001b[0m/  \u001b[01;34m'Phantom drone'\u001b[0m/\n"
          ]
        }
      ],
      "source": [
        "ls"
      ]
    },
    {
      "cell_type": "code",
      "execution_count": 17,
      "metadata": {
        "colab": {
          "base_uri": "https://localhost:8080/"
        },
        "id": "1hHEr2PNWSND",
        "outputId": "d6bf6dc1-acc4-4e67-a44d-89e2e7fb7767"
      },
      "outputs": [
        {
          "output_type": "stream",
          "name": "stdout",
          "text": [
            "/root/DroneRF/AR drone\n"
          ]
        }
      ],
      "source": [
        "cd AR drone"
      ]
    },
    {
      "cell_type": "code",
      "execution_count": null,
      "metadata": {
        "colab": {
          "base_uri": "https://localhost:8080/",
          "height": 311
        },
        "id": "VQP7dU_cWgDw",
        "outputId": "2245fbce-aace-46ae-ed95-a8e2964e4a86"
      },
      "outputs": [
        {
          "ename": "PatoolError",
          "evalue": "ignored",
          "output_type": "error",
          "traceback": [
            "\u001b[0;31m---------------------------------------------------------------------------\u001b[0m",
            "\u001b[0;31mPatoolError\u001b[0m                               Traceback (most recent call last)",
            "\u001b[0;32m<ipython-input-7-f2a9f07e16c1>\u001b[0m in \u001b[0;36m<cell line: 1>\u001b[0;34m()\u001b[0m\n\u001b[0;32m----> 1\u001b[0;31m \u001b[0mpatoolib\u001b[0m\u001b[0;34m.\u001b[0m\u001b[0mextract_archive\u001b[0m\u001b[0;34m(\u001b[0m\u001b[0;34m'RF Data_10100_H.rar'\u001b[0m\u001b[0;34m)\u001b[0m\u001b[0;34m\u001b[0m\u001b[0;34m\u001b[0m\u001b[0m\n\u001b[0m",
            "\u001b[0;32m/usr/local/lib/python3.10/dist-packages/patoolib/__init__.py\u001b[0m in \u001b[0;36mextract_archive\u001b[0;34m(archive, verbosity, outdir, program, interactive)\u001b[0m\n\u001b[1;32m    679\u001b[0m \u001b[0;32mdef\u001b[0m \u001b[0mextract_archive\u001b[0m\u001b[0;34m(\u001b[0m\u001b[0marchive\u001b[0m\u001b[0;34m,\u001b[0m \u001b[0mverbosity\u001b[0m\u001b[0;34m=\u001b[0m\u001b[0;36m0\u001b[0m\u001b[0;34m,\u001b[0m \u001b[0moutdir\u001b[0m\u001b[0;34m=\u001b[0m\u001b[0;32mNone\u001b[0m\u001b[0;34m,\u001b[0m \u001b[0mprogram\u001b[0m\u001b[0;34m=\u001b[0m\u001b[0;32mNone\u001b[0m\u001b[0;34m,\u001b[0m \u001b[0minteractive\u001b[0m\u001b[0;34m=\u001b[0m\u001b[0;32mTrue\u001b[0m\u001b[0;34m)\u001b[0m\u001b[0;34m:\u001b[0m\u001b[0;34m\u001b[0m\u001b[0;34m\u001b[0m\u001b[0m\n\u001b[1;32m    680\u001b[0m     \u001b[0;34m\"\"\"Extract given archive.\"\"\"\u001b[0m\u001b[0;34m\u001b[0m\u001b[0;34m\u001b[0m\u001b[0m\n\u001b[0;32m--> 681\u001b[0;31m     \u001b[0mutil\u001b[0m\u001b[0;34m.\u001b[0m\u001b[0mcheck_existing_filename\u001b[0m\u001b[0;34m(\u001b[0m\u001b[0marchive\u001b[0m\u001b[0;34m)\u001b[0m\u001b[0;34m\u001b[0m\u001b[0;34m\u001b[0m\u001b[0m\n\u001b[0m\u001b[1;32m    682\u001b[0m     \u001b[0;32mif\u001b[0m \u001b[0mverbosity\u001b[0m \u001b[0;34m>=\u001b[0m \u001b[0;36m0\u001b[0m\u001b[0;34m:\u001b[0m\u001b[0;34m\u001b[0m\u001b[0;34m\u001b[0m\u001b[0m\n\u001b[1;32m    683\u001b[0m         \u001b[0mutil\u001b[0m\u001b[0;34m.\u001b[0m\u001b[0mlog_info\u001b[0m\u001b[0;34m(\u001b[0m\u001b[0;34m\"Extracting %s ...\"\u001b[0m \u001b[0;34m%\u001b[0m \u001b[0marchive\u001b[0m\u001b[0;34m)\u001b[0m\u001b[0;34m\u001b[0m\u001b[0;34m\u001b[0m\u001b[0m\n",
            "\u001b[0;32m/usr/local/lib/python3.10/dist-packages/patoolib/util.py\u001b[0m in \u001b[0;36mcheck_existing_filename\u001b[0;34m(filename, onlyfiles)\u001b[0m\n\u001b[1;32m    396\u001b[0m     \u001b[0;34m\"\"\"Ensure that given filename is a valid, existing file.\"\"\"\u001b[0m\u001b[0;34m\u001b[0m\u001b[0;34m\u001b[0m\u001b[0m\n\u001b[1;32m    397\u001b[0m     \u001b[0;32mif\u001b[0m \u001b[0;32mnot\u001b[0m \u001b[0mos\u001b[0m\u001b[0;34m.\u001b[0m\u001b[0mpath\u001b[0m\u001b[0;34m.\u001b[0m\u001b[0mexists\u001b[0m\u001b[0;34m(\u001b[0m\u001b[0mfilename\u001b[0m\u001b[0;34m)\u001b[0m\u001b[0;34m:\u001b[0m\u001b[0;34m\u001b[0m\u001b[0;34m\u001b[0m\u001b[0m\n\u001b[0;32m--> 398\u001b[0;31m         \u001b[0;32mraise\u001b[0m \u001b[0mPatoolError\u001b[0m\u001b[0;34m(\u001b[0m\u001b[0;34m\"file `%s' was not found\"\u001b[0m \u001b[0;34m%\u001b[0m \u001b[0mfilename\u001b[0m\u001b[0;34m)\u001b[0m\u001b[0;34m\u001b[0m\u001b[0;34m\u001b[0m\u001b[0m\n\u001b[0m\u001b[1;32m    399\u001b[0m     \u001b[0;32mif\u001b[0m \u001b[0;32mnot\u001b[0m \u001b[0mos\u001b[0m\u001b[0;34m.\u001b[0m\u001b[0maccess\u001b[0m\u001b[0;34m(\u001b[0m\u001b[0mfilename\u001b[0m\u001b[0;34m,\u001b[0m \u001b[0mos\u001b[0m\u001b[0;34m.\u001b[0m\u001b[0mR_OK\u001b[0m\u001b[0;34m)\u001b[0m\u001b[0;34m:\u001b[0m\u001b[0;34m\u001b[0m\u001b[0;34m\u001b[0m\u001b[0m\n\u001b[1;32m    400\u001b[0m         \u001b[0;32mraise\u001b[0m \u001b[0mPatoolError\u001b[0m\u001b[0;34m(\u001b[0m\u001b[0;34m\"file `%s' is not readable\"\u001b[0m \u001b[0;34m%\u001b[0m \u001b[0mfilename\u001b[0m\u001b[0;34m)\u001b[0m\u001b[0;34m\u001b[0m\u001b[0;34m\u001b[0m\u001b[0m\n",
            "\u001b[0;31mPatoolError\u001b[0m: file `RF Data_10100_H.rar' was not found"
          ]
        }
      ],
      "source": [
        "patoolib.extract_archive('RF Data_10100_H.rar')"
      ]
    },
    {
      "cell_type": "code",
      "execution_count": 18,
      "metadata": {
        "colab": {
          "base_uri": "https://localhost:8080/"
        },
        "id": "TK1W4fZ0WwN_",
        "outputId": "6e7a3ac2-a91c-4247-a40d-03b956e4700a"
      },
      "outputs": [
        {
          "output_type": "stream",
          "name": "stdout",
          "text": [
            "'RF Data_10100_H.rar'  'RF Data_10101_L.rar'  'RF Data_10111_H.rar'\n",
            "'RF Data_10100_L.rar'  'RF Data_10110_H.rar'  'RF Data_10111_L.rar'\n",
            "'RF Data_10101_H.rar'  'RF Data_10110_L.rar'\n"
          ]
        }
      ],
      "source": [
        "ls"
      ]
    },
    {
      "cell_type": "code",
      "execution_count": 19,
      "metadata": {
        "colab": {
          "base_uri": "https://localhost:8080/",
          "height": 105
        },
        "id": "E-NUwNF5XbSO",
        "outputId": "f6a2bf01-c7e7-42e9-cd75-21c69ea2f567"
      },
      "outputs": [
        {
          "output_type": "stream",
          "name": "stdout",
          "text": [
            "patool: Extracting RF Data_10100_H.rar ...\n",
            "patool: running /usr/bin/unrar x -- \"/root/DroneRF/AR drone/RF Data_10100_H.rar\"\n",
            "patool:     with cwd='./Unpack_5jmait6w'\n",
            "patool: ... RF Data_10100_H.rar extracted to `RF Data_10100_H'.\n"
          ]
        },
        {
          "output_type": "execute_result",
          "data": {
            "text/plain": [
              "'RF Data_10100_H'"
            ],
            "application/vnd.google.colaboratory.intrinsic+json": {
              "type": "string"
            }
          },
          "metadata": {},
          "execution_count": 19
        }
      ],
      "source": [
        "patoolib.extract_archive('RF Data_10100_H.rar')"
      ]
    },
    {
      "cell_type": "code",
      "execution_count": 20,
      "metadata": {
        "colab": {
          "base_uri": "https://localhost:8080/",
          "height": 105
        },
        "id": "G_9i9bdPYIdF",
        "outputId": "c755d947-5af4-40bd-994b-b5ff76cf9771"
      },
      "outputs": [
        {
          "output_type": "stream",
          "name": "stdout",
          "text": [
            "patool: Extracting RF Data_10100_L.rar ...\n",
            "patool: running /usr/bin/unrar x -- \"/root/DroneRF/AR drone/RF Data_10100_L.rar\"\n",
            "patool:     with cwd='./Unpack_8bmqgmcw'\n",
            "patool: ... RF Data_10100_L.rar extracted to `RF Data_10100_L'.\n"
          ]
        },
        {
          "output_type": "execute_result",
          "data": {
            "text/plain": [
              "'RF Data_10100_L'"
            ],
            "application/vnd.google.colaboratory.intrinsic+json": {
              "type": "string"
            }
          },
          "metadata": {},
          "execution_count": 20
        }
      ],
      "source": [
        "patoolib.extract_archive('RF Data_10100_L.rar')"
      ]
    },
    {
      "cell_type": "code",
      "execution_count": 21,
      "metadata": {
        "colab": {
          "base_uri": "https://localhost:8080/",
          "height": 105
        },
        "id": "B1lbJ0LiYOxO",
        "outputId": "451f6f7a-3c71-4f20-ec86-0a03642bd3b0"
      },
      "outputs": [
        {
          "output_type": "stream",
          "name": "stdout",
          "text": [
            "patool: Extracting RF Data_10101_H.rar ...\n",
            "patool: running /usr/bin/unrar x -- \"/root/DroneRF/AR drone/RF Data_10101_H.rar\"\n",
            "patool:     with cwd='./Unpack_vej4rvfg'\n",
            "patool: ... RF Data_10101_H.rar extracted to `RF Data_10101_H'.\n"
          ]
        },
        {
          "output_type": "execute_result",
          "data": {
            "text/plain": [
              "'RF Data_10101_H'"
            ],
            "application/vnd.google.colaboratory.intrinsic+json": {
              "type": "string"
            }
          },
          "metadata": {},
          "execution_count": 21
        }
      ],
      "source": [
        "patoolib.extract_archive('RF Data_10101_H.rar')\n"
      ]
    },
    {
      "cell_type": "code",
      "execution_count": 22,
      "metadata": {
        "colab": {
          "base_uri": "https://localhost:8080/",
          "height": 105
        },
        "id": "jZ7xH1bMYR9B",
        "outputId": "54bba345-745c-486b-937a-7795bf93053e"
      },
      "outputs": [
        {
          "output_type": "stream",
          "name": "stdout",
          "text": [
            "patool: Extracting RF Data_10101_L.rar ...\n",
            "patool: running /usr/bin/unrar x -- \"/root/DroneRF/AR drone/RF Data_10101_L.rar\"\n",
            "patool:     with cwd='./Unpack_syqdxskq'\n",
            "patool: ... RF Data_10101_L.rar extracted to `RF Data_10101_L'.\n"
          ]
        },
        {
          "output_type": "execute_result",
          "data": {
            "text/plain": [
              "'RF Data_10101_L'"
            ],
            "application/vnd.google.colaboratory.intrinsic+json": {
              "type": "string"
            }
          },
          "metadata": {},
          "execution_count": 22
        }
      ],
      "source": [
        "patoolib.extract_archive('RF Data_10101_L.rar')"
      ]
    },
    {
      "cell_type": "code",
      "source": [
        "patoolib.extract_archive('RF Data_10110_H.rar')"
      ],
      "metadata": {
        "colab": {
          "base_uri": "https://localhost:8080/",
          "height": 105
        },
        "id": "9KE8KwOJZ7Kc",
        "outputId": "22c6dbb3-1716-467c-e195-cfe997effa3e"
      },
      "execution_count": 23,
      "outputs": [
        {
          "output_type": "stream",
          "name": "stdout",
          "text": [
            "patool: Extracting RF Data_10110_H.rar ...\n",
            "patool: running /usr/bin/unrar x -- \"/root/DroneRF/AR drone/RF Data_10110_H.rar\"\n",
            "patool:     with cwd='./Unpack_94w4shsc'\n",
            "patool: ... RF Data_10110_H.rar extracted to `RF Data_10110_H'.\n"
          ]
        },
        {
          "output_type": "execute_result",
          "data": {
            "text/plain": [
              "'RF Data_10110_H'"
            ],
            "application/vnd.google.colaboratory.intrinsic+json": {
              "type": "string"
            }
          },
          "metadata": {},
          "execution_count": 23
        }
      ]
    },
    {
      "cell_type": "code",
      "source": [
        "patoolib.extract_archive('RF Data_10110_L.rar')"
      ],
      "metadata": {
        "colab": {
          "base_uri": "https://localhost:8080/",
          "height": 105
        },
        "id": "Was00gOBZ-s-",
        "outputId": "c0c0b85e-eba6-4f5a-ef7a-3ec28d9d60b5"
      },
      "execution_count": 24,
      "outputs": [
        {
          "output_type": "stream",
          "name": "stdout",
          "text": [
            "patool: Extracting RF Data_10110_L.rar ...\n",
            "patool: running /usr/bin/unrar x -- \"/root/DroneRF/AR drone/RF Data_10110_L.rar\"\n",
            "patool:     with cwd='./Unpack_kxppfezc'\n",
            "patool: ... RF Data_10110_L.rar extracted to `RF Data_10110_L'.\n"
          ]
        },
        {
          "output_type": "execute_result",
          "data": {
            "text/plain": [
              "'RF Data_10110_L'"
            ],
            "application/vnd.google.colaboratory.intrinsic+json": {
              "type": "string"
            }
          },
          "metadata": {},
          "execution_count": 24
        }
      ]
    },
    {
      "cell_type": "code",
      "source": [
        "patoolib.extract_archive('RF Data_10111_H.rar')"
      ],
      "metadata": {
        "colab": {
          "base_uri": "https://localhost:8080/",
          "height": 105
        },
        "id": "dCda7xfCaGlB",
        "outputId": "380194bb-bddd-447c-97ec-2c89a0034d7e"
      },
      "execution_count": 25,
      "outputs": [
        {
          "output_type": "stream",
          "name": "stdout",
          "text": [
            "patool: Extracting RF Data_10111_H.rar ...\n",
            "patool: running /usr/bin/unrar x -- \"/root/DroneRF/AR drone/RF Data_10111_H.rar\"\n",
            "patool:     with cwd='./Unpack_9cnltwg3'\n",
            "patool: ... RF Data_10111_H.rar extracted to `RF Data_10111_H'.\n"
          ]
        },
        {
          "output_type": "execute_result",
          "data": {
            "text/plain": [
              "'RF Data_10111_H'"
            ],
            "application/vnd.google.colaboratory.intrinsic+json": {
              "type": "string"
            }
          },
          "metadata": {},
          "execution_count": 25
        }
      ]
    },
    {
      "cell_type": "code",
      "source": [
        "patoolib.extract_archive('RF Data_10111_L.rar')"
      ],
      "metadata": {
        "colab": {
          "base_uri": "https://localhost:8080/",
          "height": 105
        },
        "id": "CMVET0-laLS6",
        "outputId": "e4afbd31-fd3a-42ca-eadc-f93aa2b7d640"
      },
      "execution_count": 26,
      "outputs": [
        {
          "output_type": "stream",
          "name": "stdout",
          "text": [
            "patool: Extracting RF Data_10111_L.rar ...\n",
            "patool: running /usr/bin/unrar x -- \"/root/DroneRF/AR drone/RF Data_10111_L.rar\"\n",
            "patool:     with cwd='./Unpack_vq4m1tn9'\n",
            "patool: ... RF Data_10111_L.rar extracted to `RF Data_10111_L'.\n"
          ]
        },
        {
          "output_type": "execute_result",
          "data": {
            "text/plain": [
              "'RF Data_10111_L'"
            ],
            "application/vnd.google.colaboratory.intrinsic+json": {
              "type": "string"
            }
          },
          "metadata": {},
          "execution_count": 26
        }
      ]
    },
    {
      "cell_type": "code",
      "execution_count": 29,
      "metadata": {
        "id": "_9ClzMCa2cFy",
        "colab": {
          "base_uri": "https://localhost:8080/"
        },
        "outputId": "6d862c1f-1285-4e85-b366-34b5f4363691"
      },
      "outputs": [
        {
          "output_type": "stream",
          "name": "stdout",
          "text": [
            "\u001b[0m\u001b[01;34m'RF Data_10100_H'\u001b[0m/     \u001b[01;34m'RF Data_10101_L'\u001b[0m/     \u001b[01;34m'RF Data_10111_H'\u001b[0m/\n",
            "'RF Data_10100_H.rar'  'RF Data_10101_L.rar'  'RF Data_10111_H.rar'\n",
            "\u001b[01;34m'RF Data_10100_L'\u001b[0m/     \u001b[01;34m'RF Data_10110_H'\u001b[0m/     \u001b[01;34m'RF Data_10111_L'\u001b[0m/\n",
            "'RF Data_10100_L.rar'  'RF Data_10110_H.rar'  'RF Data_10111_L.rar'\n",
            "\u001b[01;34m'RF Data_10101_H'\u001b[0m/     \u001b[01;34m'RF Data_10110_L'\u001b[0m/\n",
            "'RF Data_10101_H.rar'  'RF Data_10110_L.rar'\n"
          ]
        }
      ],
      "source": [
        "ls "
      ]
    },
    {
      "cell_type": "code",
      "source": [
        "cd ..\n"
      ],
      "metadata": {
        "colab": {
          "base_uri": "https://localhost:8080/"
        },
        "id": "7Je_4p0jYZ4m",
        "outputId": "e1b473e6-d720-49a7-91d5-34217a68f344"
      },
      "execution_count": 31,
      "outputs": [
        {
          "output_type": "stream",
          "name": "stdout",
          "text": [
            "/root/DroneRF\n"
          ]
        }
      ]
    },
    {
      "cell_type": "code",
      "source": [
        "cd Background RF activities"
      ],
      "metadata": {
        "colab": {
          "base_uri": "https://localhost:8080/"
        },
        "id": "H7oDLPfQa64Z",
        "outputId": "1a2e66d7-0d87-434e-aac3-56045e9a826a"
      },
      "execution_count": 32,
      "outputs": [
        {
          "output_type": "stream",
          "name": "stdout",
          "text": [
            "[Errno 2] No such file or directory: 'Background RF activities'\n",
            "/root/DroneRF\n"
          ]
        }
      ]
    },
    {
      "cell_type": "code",
      "source": [
        "cd Phantom\\ drone"
      ],
      "metadata": {
        "colab": {
          "base_uri": "https://localhost:8080/"
        },
        "id": "nTQzu-cdbGnj",
        "outputId": "92cb5dfe-3162-44d7-f472-2421c578e2bb"
      },
      "execution_count": 33,
      "outputs": [
        {
          "output_type": "stream",
          "name": "stdout",
          "text": [
            "/root/DroneRF/Phantom drone\n"
          ]
        }
      ]
    },
    {
      "cell_type": "code",
      "source": [
        "ls\n"
      ],
      "metadata": {
        "colab": {
          "base_uri": "https://localhost:8080/"
        },
        "id": "0HgIpWyfbK2p",
        "outputId": "58e02c29-da31-4b89-aa5a-5b0afe27c68f"
      },
      "execution_count": 34,
      "outputs": [
        {
          "output_type": "stream",
          "name": "stdout",
          "text": [
            "'RF Data_11000_H.rar'  'RF Data_11000_L1.rar'  'RF Data_11000_L2.rar'\n"
          ]
        }
      ]
    },
    {
      "cell_type": "code",
      "source": [
        "import os\n",
        "import patoolib\n",
        "\n",
        "folder_path = '/root/DroneRF/Phantom drone'  # Replace with the actual folder path\n",
        "\n",
        "for file_name in os.listdir(folder_path):\n",
        "    file_path = os.path.join(folder_path, file_name)\n",
        "    if os.path.isfile(file_path):\n",
        "        try:\n",
        "            patoolib.extract_archive(file_path)\n",
        "            print(f\"Extracted file: {file_name}\")\n",
        "        except patoolib.util.PatoolError as e:\n",
        "            print(f\"Failed to extract file: {file_name}. Error: {e}\")"
      ],
      "metadata": {
        "colab": {
          "base_uri": "https://localhost:8080/"
        },
        "id": "gmBDsM25bM77",
        "outputId": "aa942bef-c1da-4b92-834c-d5cb5ec08fee"
      },
      "execution_count": 35,
      "outputs": [
        {
          "output_type": "stream",
          "name": "stdout",
          "text": [
            "patool: Extracting /root/DroneRF/Phantom drone/RF Data_11000_L2.rar ...\n",
            "patool: running /usr/bin/unrar x -- \"/root/DroneRF/Phantom drone/RF Data_11000_L2.rar\"\n",
            "patool:     with cwd='./Unpack_rucklf1f'\n",
            "patool: ... /root/DroneRF/Phantom drone/RF Data_11000_L2.rar extracted to `RF Data_11000_L2' (multiple files in root).\n",
            "Extracted file: RF Data_11000_L2.rar\n",
            "patool: Extracting /root/DroneRF/Phantom drone/RF Data_11000_L1.rar ...\n",
            "patool: running /usr/bin/unrar x -- \"/root/DroneRF/Phantom drone/RF Data_11000_L1.rar\"\n",
            "patool:     with cwd='./Unpack_4s_rx06g'\n",
            "patool: ... /root/DroneRF/Phantom drone/RF Data_11000_L1.rar extracted to `RF Data_11000_L1' (multiple files in root).\n",
            "Extracted file: RF Data_11000_L1.rar\n",
            "patool: Extracting /root/DroneRF/Phantom drone/RF Data_11000_H.rar ...\n",
            "patool: running /usr/bin/unrar x -- \"/root/DroneRF/Phantom drone/RF Data_11000_H.rar\"\n",
            "patool:     with cwd='./Unpack_5zxjrdoa'\n",
            "patool: ... /root/DroneRF/Phantom drone/RF Data_11000_H.rar extracted to `RF Data_11000_H'.\n",
            "Extracted file: RF Data_11000_H.rar\n"
          ]
        }
      ]
    },
    {
      "cell_type": "code",
      "source": [
        "ls"
      ],
      "metadata": {
        "colab": {
          "base_uri": "https://localhost:8080/"
        },
        "id": "N96DfU_7bvf-",
        "outputId": "882d8ec3-dd47-4536-a899-2f0567c36d05"
      },
      "execution_count": 36,
      "outputs": [
        {
          "output_type": "stream",
          "name": "stdout",
          "text": [
            "\u001b[0m\u001b[01;34m'RF Data_11000_H'\u001b[0m/     \u001b[01;34m'RF Data_11000_L1'\u001b[0m/     \u001b[01;34m'RF Data_11000_L2'\u001b[0m/\n",
            "'RF Data_11000_H.rar'  'RF Data_11000_L1.rar'  'RF Data_11000_L2.rar'\n"
          ]
        }
      ]
    },
    {
      "cell_type": "code",
      "source": [
        "cd ..\n"
      ],
      "metadata": {
        "colab": {
          "base_uri": "https://localhost:8080/"
        },
        "id": "SH2B8xPmb3Zd",
        "outputId": "47d7ea74-e92b-421a-808b-e9fa68b23c9d"
      },
      "execution_count": 37,
      "outputs": [
        {
          "output_type": "stream",
          "name": "stdout",
          "text": [
            "/root/DroneRF\n"
          ]
        }
      ]
    },
    {
      "cell_type": "code",
      "source": [
        "cd Bepop\\ drone"
      ],
      "metadata": {
        "colab": {
          "base_uri": "https://localhost:8080/"
        },
        "id": "LlQ1JtRFb5yV",
        "outputId": "61d7a0a5-bc3d-4b22-e1c5-9566996759d3"
      },
      "execution_count": 38,
      "outputs": [
        {
          "output_type": "stream",
          "name": "stdout",
          "text": [
            "/root/DroneRF/Bepop drone\n"
          ]
        }
      ]
    },
    {
      "cell_type": "code",
      "source": [
        "ls"
      ],
      "metadata": {
        "colab": {
          "base_uri": "https://localhost:8080/"
        },
        "id": "r08r7VP7b928",
        "outputId": "f6a937ba-edfd-4a11-d5a8-b125f4a22e9c"
      },
      "execution_count": 39,
      "outputs": [
        {
          "output_type": "stream",
          "name": "stdout",
          "text": [
            "'RF Data_10000_H.rar'  'RF Data_10001_L.rar'  'RF Data_10011_H.rar'\n",
            "'RF Data_10000_L.rar'  'RF Data_10010_H.rar'  'RF Data_10011_L.rar'\n",
            "'RF Data_10001_H.rar'  'RF Data_10010_L.rar'\n"
          ]
        }
      ]
    },
    {
      "cell_type": "code",
      "source": [
        "import os\n",
        "import patoolib\n",
        "\n",
        "folder_path = '/root/DroneRF/Bepop drone'  # Replace with the actual folder path\n",
        "\n",
        "for file_name in os.listdir(folder_path):\n",
        "    file_path = os.path.join(folder_path, file_name)\n",
        "    if os.path.isfile(file_path):\n",
        "        try:\n",
        "            patoolib.extract_archive(file_path)\n",
        "            print(f\"Extracted file: {file_name}\")\n",
        "        except patoolib.util.PatoolError as e:\n",
        "            print(f\"Failed to extract file: {file_name}. Error: {e}\")\n"
      ],
      "metadata": {
        "colab": {
          "base_uri": "https://localhost:8080/"
        },
        "id": "MJ7gk-oCcARD",
        "outputId": "ca411b8c-977b-478d-8aa8-d3dee76675d3"
      },
      "execution_count": 40,
      "outputs": [
        {
          "output_type": "stream",
          "name": "stdout",
          "text": [
            "patool: Extracting /root/DroneRF/Bepop drone/RF Data_10011_L.rar ...\n",
            "patool: running /usr/bin/unrar x -- \"/root/DroneRF/Bepop drone/RF Data_10011_L.rar\"\n",
            "patool:     with cwd='./Unpack_ju1_jmxq'\n",
            "patool: ... /root/DroneRF/Bepop drone/RF Data_10011_L.rar extracted to `RF Data_10011_L'.\n",
            "Extracted file: RF Data_10011_L.rar\n",
            "patool: Extracting /root/DroneRF/Bepop drone/RF Data_10010_L.rar ...\n",
            "patool: running /usr/bin/unrar x -- \"/root/DroneRF/Bepop drone/RF Data_10010_L.rar\"\n",
            "patool:     with cwd='./Unpack_eqt_yg12'\n",
            "patool: ... /root/DroneRF/Bepop drone/RF Data_10010_L.rar extracted to `RF Data_10010_L'.\n",
            "Extracted file: RF Data_10010_L.rar\n",
            "patool: Extracting /root/DroneRF/Bepop drone/RF Data_10011_H.rar ...\n",
            "patool: running /usr/bin/unrar x -- \"/root/DroneRF/Bepop drone/RF Data_10011_H.rar\"\n",
            "patool:     with cwd='./Unpack_o09ukpts'\n",
            "patool: ... /root/DroneRF/Bepop drone/RF Data_10011_H.rar extracted to `RF Data_10011_H'.\n",
            "Extracted file: RF Data_10011_H.rar\n",
            "patool: Extracting /root/DroneRF/Bepop drone/RF Data_10000_L.rar ...\n",
            "patool: running /usr/bin/unrar x -- \"/root/DroneRF/Bepop drone/RF Data_10000_L.rar\"\n",
            "patool:     with cwd='./Unpack_w19slran'\n",
            "patool: ... /root/DroneRF/Bepop drone/RF Data_10000_L.rar extracted to `RF Data_10000_L'.\n",
            "Extracted file: RF Data_10000_L.rar\n",
            "patool: Extracting /root/DroneRF/Bepop drone/RF Data_10001_H.rar ...\n",
            "patool: running /usr/bin/unrar x -- \"/root/DroneRF/Bepop drone/RF Data_10001_H.rar\"\n",
            "patool:     with cwd='./Unpack_wap5hyn1'\n",
            "patool: ... /root/DroneRF/Bepop drone/RF Data_10001_H.rar extracted to `RF Data_10001_H'.\n",
            "Extracted file: RF Data_10001_H.rar\n",
            "patool: Extracting /root/DroneRF/Bepop drone/RF Data_10001_L.rar ...\n",
            "patool: running /usr/bin/unrar x -- \"/root/DroneRF/Bepop drone/RF Data_10001_L.rar\"\n",
            "patool:     with cwd='./Unpack_orm5y446'\n",
            "patool: ... /root/DroneRF/Bepop drone/RF Data_10001_L.rar extracted to `RF Data_10001_L'.\n",
            "Extracted file: RF Data_10001_L.rar\n",
            "patool: Extracting /root/DroneRF/Bepop drone/RF Data_10010_H.rar ...\n",
            "patool: running /usr/bin/unrar x -- \"/root/DroneRF/Bepop drone/RF Data_10010_H.rar\"\n",
            "patool:     with cwd='./Unpack_ujf26r8z'\n",
            "patool: ... /root/DroneRF/Bepop drone/RF Data_10010_H.rar extracted to `RF Data_10010_H'.\n",
            "Extracted file: RF Data_10010_H.rar\n",
            "patool: Extracting /root/DroneRF/Bepop drone/RF Data_10000_H.rar ...\n",
            "patool: running /usr/bin/unrar x -- \"/root/DroneRF/Bepop drone/RF Data_10000_H.rar\"\n",
            "patool:     with cwd='./Unpack__v7k2r9k'\n",
            "patool: ... /root/DroneRF/Bepop drone/RF Data_10000_H.rar extracted to `RF Data_10000_H'.\n",
            "Extracted file: RF Data_10000_H.rar\n"
          ]
        }
      ]
    },
    {
      "cell_type": "code",
      "source": [
        "ls"
      ],
      "metadata": {
        "colab": {
          "base_uri": "https://localhost:8080/"
        },
        "id": "6T5Es2WwdEDG",
        "outputId": "42e1aca9-bf36-44d5-f637-af878d66c3a4"
      },
      "execution_count": 41,
      "outputs": [
        {
          "output_type": "stream",
          "name": "stdout",
          "text": [
            "\u001b[0m\u001b[01;34m'RF Data_10000_H'\u001b[0m/     \u001b[01;34m'RF Data_10001_L'\u001b[0m/     \u001b[01;34m'RF Data_10011_H'\u001b[0m/\n",
            "'RF Data_10000_H.rar'  'RF Data_10001_L.rar'  'RF Data_10011_H.rar'\n",
            "\u001b[01;34m'RF Data_10000_L'\u001b[0m/     \u001b[01;34m'RF Data_10010_H'\u001b[0m/     \u001b[01;34m'RF Data_10011_L'\u001b[0m/\n",
            "'RF Data_10000_L.rar'  'RF Data_10010_H.rar'  'RF Data_10011_L.rar'\n",
            "\u001b[01;34m'RF Data_10001_H'\u001b[0m/     \u001b[01;34m'RF Data_10010_L'\u001b[0m/\n",
            "'RF Data_10001_H.rar'  'RF Data_10010_L.rar'\n"
          ]
        }
      ]
    },
    {
      "cell_type": "code",
      "source": [
        "cd .."
      ],
      "metadata": {
        "colab": {
          "base_uri": "https://localhost:8080/"
        },
        "id": "SEpVQ_H7dX4k",
        "outputId": "2e819e24-df6b-44d6-fd4f-a4ee94d2acbe"
      },
      "execution_count": 42,
      "outputs": [
        {
          "output_type": "stream",
          "name": "stdout",
          "text": [
            "/root/DroneRF\n"
          ]
        }
      ]
    },
    {
      "cell_type": "code",
      "source": [
        "cd Background\\ RF\\ activites"
      ],
      "metadata": {
        "colab": {
          "base_uri": "https://localhost:8080/"
        },
        "id": "MYuQMhgAdaTx",
        "outputId": "0f580533-11bd-4100-c1f9-fbe94050d1f2"
      },
      "execution_count": 44,
      "outputs": [
        {
          "output_type": "stream",
          "name": "stdout",
          "text": [
            "/root/DroneRF/Background RF activites\n"
          ]
        }
      ]
    },
    {
      "cell_type": "code",
      "source": [
        "import os\n",
        "import patoolib\n",
        "\n",
        "folder_path = '/root/DroneRF/Background RF activites'  # Replace with the actual folder path\n",
        "\n",
        "for file_name in os.listdir(folder_path):\n",
        "    file_path = os.path.join(folder_path, file_name)\n",
        "    if os.path.isfile(file_path):\n",
        "        try:\n",
        "            patoolib.extract_archive(file_path)\n",
        "            print(f\"Extracted file: {file_name}\")\n",
        "        except patoolib.util.PatoolError as e:\n",
        "            print(f\"Failed to extract file: {file_name}. Error: {e}\")\n"
      ],
      "metadata": {
        "colab": {
          "base_uri": "https://localhost:8080/"
        },
        "id": "GE7Gy_nXdic0",
        "outputId": "5842d164-2197-469d-8182-5bd37b1f86ba"
      },
      "execution_count": 46,
      "outputs": [
        {
          "output_type": "stream",
          "name": "stdout",
          "text": [
            "patool: Extracting /root/DroneRF/Background RF activites/RF Data_00000_L1.rar ...\n",
            "patool: running /usr/bin/unrar x -- \"/root/DroneRF/Background RF activites/RF Data_00000_L1.rar\"\n",
            "patool:     with cwd='./Unpack_by03bn5r'\n",
            "patool: ... /root/DroneRF/Background RF activites/RF Data_00000_L1.rar extracted to `RF Data_00000_L1'.\n",
            "Extracted file: RF Data_00000_L1.rar\n",
            "patool: Extracting /root/DroneRF/Background RF activites/FR Data_00000_H2.rar ...\n",
            "patool: running /usr/bin/unrar x -- \"/root/DroneRF/Background RF activites/FR Data_00000_H2.rar\"\n",
            "patool:     with cwd='./Unpack_w6v7vx06'\n",
            "patool: ... /root/DroneRF/Background RF activites/FR Data_00000_H2.rar extracted to `FR Data_00000_H2'.\n",
            "Extracted file: FR Data_00000_H2.rar\n",
            "patool: Extracting /root/DroneRF/Background RF activites/RF Data_00000_H1.rar ...\n",
            "patool: running /usr/bin/unrar x -- \"/root/DroneRF/Background RF activites/RF Data_00000_H1.rar\"\n",
            "patool:     with cwd='./Unpack_unmvbglb'\n",
            "patool: ... /root/DroneRF/Background RF activites/RF Data_00000_H1.rar extracted to `RF Data_00000_H1' (multiple files in root).\n",
            "Extracted file: RF Data_00000_H1.rar\n",
            "patool: Extracting /root/DroneRF/Background RF activites/RF Data_00000_L2.rar ...\n",
            "patool: running /usr/bin/unrar x -- \"/root/DroneRF/Background RF activites/RF Data_00000_L2.rar\"\n",
            "patool:     with cwd='./Unpack_a58i8ohx'\n",
            "patool: ... /root/DroneRF/Background RF activites/RF Data_00000_L2.rar extracted to `RF Data_00000_L2'.\n",
            "Extracted file: RF Data_00000_L2.rar\n"
          ]
        }
      ]
    },
    {
      "cell_type": "code",
      "source": [
        "import os\n",
        "\n",
        "folder_path = '/root/DroneRF/Background RF activites'  # Replace with the actual folder path\n",
        "\n",
        "for file_name in os.listdir(folder_path):\n",
        "    if file_name.endswith('.rar'):\n",
        "        file_path = os.path.join(folder_path, file_name)\n",
        "        try:\n",
        "            os.remove(file_path)\n",
        "            print(f\"Deleted file: {file_name}\")\n",
        "        except OSError as e:\n",
        "            print(f\"Failed to delete file: {file_name}. Error: {e}\")"
      ],
      "metadata": {
        "colab": {
          "base_uri": "https://localhost:8080/"
        },
        "id": "93ZQtreOeYtc",
        "outputId": "76cbe742-ae65-4cf3-a396-bc9644a58a30"
      },
      "execution_count": 47,
      "outputs": [
        {
          "output_type": "stream",
          "name": "stdout",
          "text": [
            "Deleted file: RF Data_00000_L1.rar\n",
            "Deleted file: FR Data_00000_H2.rar\n",
            "Deleted file: RF Data_00000_H1.rar\n",
            "Deleted file: RF Data_00000_L2.rar\n"
          ]
        }
      ]
    },
    {
      "cell_type": "code",
      "source": [
        "ls"
      ],
      "metadata": {
        "colab": {
          "base_uri": "https://localhost:8080/"
        },
        "id": "a6_etcPgeiag",
        "outputId": "13a8e72a-fb7e-49ca-ffcc-3254f805e627"
      },
      "execution_count": 48,
      "outputs": [
        {
          "output_type": "stream",
          "name": "stdout",
          "text": [
            "\u001b[0m\u001b[01;34m'FR Data_00000_H2'\u001b[0m/  \u001b[01;34m'RF Data_00000_L1'\u001b[0m/\n",
            "\u001b[01;34m'RF Data_00000_H1'\u001b[0m/  \u001b[01;34m'RF Data_00000_L2'\u001b[0m/\n"
          ]
        }
      ]
    },
    {
      "cell_type": "code",
      "source": [
        "import os\n",
        "\n",
        "folder_path = '/root/DroneRF/Bepop drone'  # Replace with the actual folder path\n",
        "\n",
        "for file_name in os.listdir(folder_path):\n",
        "    if file_name.endswith('.rar'):\n",
        "        file_path = os.path.join(folder_path, file_name)\n",
        "        try:\n",
        "            os.remove(file_path)\n",
        "            print(f\"Deleted file: {file_name}\")\n",
        "        except OSError as e:\n",
        "            print(f\"Failed to delete file: {file_name}. Error: {e}\")\n"
      ],
      "metadata": {
        "colab": {
          "base_uri": "https://localhost:8080/"
        },
        "id": "aZG3i4ptekbK",
        "outputId": "92ce8ce3-d02e-40f7-ccb9-c6afc880e56d"
      },
      "execution_count": 49,
      "outputs": [
        {
          "output_type": "stream",
          "name": "stdout",
          "text": [
            "Deleted file: RF Data_10011_L.rar\n",
            "Deleted file: RF Data_10010_L.rar\n",
            "Deleted file: RF Data_10011_H.rar\n",
            "Deleted file: RF Data_10000_L.rar\n",
            "Deleted file: RF Data_10001_H.rar\n",
            "Deleted file: RF Data_10001_L.rar\n",
            "Deleted file: RF Data_10010_H.rar\n",
            "Deleted file: RF Data_10000_H.rar\n"
          ]
        }
      ]
    },
    {
      "cell_type": "code",
      "source": [
        "import os\n",
        "\n",
        "folder_path = '/root/DroneRF/Phantom drone'  # Replace with the actual folder path\n",
        "\n",
        "for file_name in os.listdir(folder_path):\n",
        "    if file_name.endswith('.rar'):\n",
        "        file_path = os.path.join(folder_path, file_name)\n",
        "        try:\n",
        "            os.remove(file_path)\n",
        "            print(f\"Deleted file: {file_name}\")\n",
        "        except OSError as e:\n",
        "            print(f\"Failed to delete file: {file_name}. Error: {e}\")\n"
      ],
      "metadata": {
        "colab": {
          "base_uri": "https://localhost:8080/"
        },
        "id": "c8pPsjtMev1N",
        "outputId": "84c2eef1-9aa2-4601-93ab-330a68889242"
      },
      "execution_count": 51,
      "outputs": [
        {
          "output_type": "stream",
          "name": "stdout",
          "text": [
            "Deleted file: RF Data_11000_L2.rar\n",
            "Deleted file: RF Data_11000_L1.rar\n",
            "Deleted file: RF Data_11000_H.rar\n"
          ]
        }
      ]
    },
    {
      "cell_type": "code",
      "source": [
        "import os\n",
        "\n",
        "folder_path = '/root/DroneRF/AR drone'  # Replace with the actual folder path\n",
        "\n",
        "for file_name in os.listdir(folder_path):\n",
        "    if file_name.endswith('.rar'):\n",
        "        file_path = os.path.join(folder_path, file_name)\n",
        "        try:\n",
        "            os.remove(file_path)\n",
        "            print(f\"Deleted file: {file_name}\")\n",
        "        except OSError as e:\n",
        "            print(f\"Failed to delete file: {file_name}. Error: {e}\")\n"
      ],
      "metadata": {
        "colab": {
          "base_uri": "https://localhost:8080/"
        },
        "id": "I7PeIFWwe5Z7",
        "outputId": "2205affd-9201-4caa-ccdf-9a8ad9915c02"
      },
      "execution_count": 52,
      "outputs": [
        {
          "output_type": "stream",
          "name": "stdout",
          "text": [
            "Deleted file: RF Data_10100_H.rar\n",
            "Deleted file: RF Data_10110_H.rar\n",
            "Deleted file: RF Data_10100_L.rar\n",
            "Deleted file: RF Data_10111_H.rar\n",
            "Deleted file: RF Data_10101_H.rar\n",
            "Deleted file: RF Data_10110_L.rar\n",
            "Deleted file: RF Data_10101_L.rar\n",
            "Deleted file: RF Data_10111_L.rar\n"
          ]
        }
      ]
    },
    {
      "cell_type": "code",
      "source": [
        "cd ..\n"
      ],
      "metadata": {
        "colab": {
          "base_uri": "https://localhost:8080/"
        },
        "id": "kq2y0gObfEC0",
        "outputId": "0e137a84-3d98-4fda-84b4-dfc2bd2a49f4"
      },
      "execution_count": 53,
      "outputs": [
        {
          "output_type": "stream",
          "name": "stdout",
          "text": [
            "/root/DroneRF\n"
          ]
        }
      ]
    },
    {
      "cell_type": "code",
      "source": [
        "cd AR\\ drone"
      ],
      "metadata": {
        "colab": {
          "base_uri": "https://localhost:8080/"
        },
        "id": "rYtTPalNfGOE",
        "outputId": "7f2e8fe0-0514-4da5-c726-93501dbf3372"
      },
      "execution_count": 54,
      "outputs": [
        {
          "output_type": "stream",
          "name": "stdout",
          "text": [
            "/root/DroneRF/AR drone\n"
          ]
        }
      ]
    },
    {
      "cell_type": "code",
      "source": [
        "ls       "
      ],
      "metadata": {
        "colab": {
          "base_uri": "https://localhost:8080/"
        },
        "id": "Z68utVvnfM5y",
        "outputId": "ac060f10-7b0a-480b-a923-e28cd2b5350e"
      },
      "execution_count": 55,
      "outputs": [
        {
          "output_type": "stream",
          "name": "stdout",
          "text": [
            "\u001b[0m\u001b[01;34m'RF Data_10100_H'\u001b[0m/  \u001b[01;34m'RF Data_10101_H'\u001b[0m/  \u001b[01;34m'RF Data_10110_H'\u001b[0m/  \u001b[01;34m'RF Data_10111_H'\u001b[0m/\n",
            "\u001b[01;34m'RF Data_10100_L'\u001b[0m/  \u001b[01;34m'RF Data_10101_L'\u001b[0m/  \u001b[01;34m'RF Data_10110_L'\u001b[0m/  \u001b[01;34m'RF Data_10111_L'\u001b[0m/\n"
          ]
        }
      ]
    },
    {
      "cell_type": "code",
      "source": [
        "cd DroneRF"
      ],
      "metadata": {
        "colab": {
          "base_uri": "https://localhost:8080/"
        },
        "id": "OMtSxXR-Ych2",
        "outputId": "0fc78061-a52d-4906-9072-bfa5a3e738d0"
      },
      "execution_count": null,
      "outputs": [
        {
          "output_type": "stream",
          "name": "stdout",
          "text": [
            "/content/DroneRF\n"
          ]
        }
      ]
    },
    {
      "cell_type": "code",
      "source": [
        "ls"
      ],
      "metadata": {
        "id": "a8VIE-4dYiyW",
        "outputId": "5610e0d5-4369-4edb-f96f-c923c7e5fe57",
        "colab": {
          "base_uri": "https://localhost:8080/"
        }
      },
      "execution_count": null,
      "outputs": [
        {
          "output_type": "stream",
          "name": "stdout",
          "text": [
            "\u001b[0m\u001b[01;34m'AR drone'\u001b[0m/  \u001b[01;34m'Background RF activites'\u001b[0m/  \u001b[01;34m'Bepop drone'\u001b[0m/  \u001b[01;34m'Phantom drone'\u001b[0m/\n"
          ]
        }
      ]
    },
    {
      "cell_type": "code",
      "source": [
        "cd "
      ],
      "metadata": {
        "id": "2elbS33pYlAT",
        "colab": {
          "base_uri": "https://localhost:8080/"
        },
        "outputId": "fd154886-add1-43b2-d3e5-e3bd72048baf"
      },
      "execution_count": 9,
      "outputs": [
        {
          "output_type": "stream",
          "name": "stdout",
          "text": [
            "/root\n"
          ]
        }
      ]
    },
    {
      "cell_type": "code",
      "source": [
        "ls"
      ],
      "metadata": {
        "colab": {
          "base_uri": "https://localhost:8080/"
        },
        "id": "HzCjpcDSilVQ",
        "outputId": "1b809a81-c30c-44ab-aee1-710db8f047fb"
      },
      "execution_count": 57,
      "outputs": [
        {
          "output_type": "stream",
          "name": "stdout",
          "text": [
            "\u001b[0m\u001b[01;34m'RF Data_10100_H'\u001b[0m/  \u001b[01;34m'RF Data_10101_H'\u001b[0m/  \u001b[01;34m'RF Data_10110_H'\u001b[0m/  \u001b[01;34m'RF Data_10111_H'\u001b[0m/\n",
            "\u001b[01;34m'RF Data_10100_L'\u001b[0m/  \u001b[01;34m'RF Data_10101_L'\u001b[0m/  \u001b[01;34m'RF Data_10110_L'\u001b[0m/  \u001b[01;34m'RF Data_10111_L'\u001b[0m/\n"
          ]
        }
      ]
    },
    {
      "cell_type": "code",
      "source": [
        "import os\n",
        "import pandas as pd\n",
        "\n",
        "folder_path = '/root/DroneRF'  # Replace with the actual folder path\n",
        "\n",
        "for root, dirs, files in os.walk(folder_path):\n",
        "    for file_name in files:\n",
        "        if file_name.endswith('.csv'):\n",
        "            file_path = os.path.join(root, file_name)\n",
        "            try:\n",
        "                df = pd.read_csv(file_path)\n",
        "                amplitude = df.iloc[:, 0].max() - df.iloc[:, 0].min()\n",
        "                if -1 <= amplitude <= 1:\n",
        "                    print(f\"Amplitude in range [-1, 1] for file: {file_path}\")\n",
        "                else:\n",
        "                    print(f\"Amplitude out of range [-1, 1] for file: {file_path}\")\n",
        "            except pd.errors.EmptyDataError:\n",
        "                print(f\"Empty file: {file_path}\")\n",
        "            except pd.errors.ParserError:\n",
        "                print(f\"Error parsing file: {file_path}\")\n",
        "            except FileNotFoundError:\n",
        "                print(f\"File not found: {file_path}\")\n"
      ],
      "metadata": {
        "colab": {
          "base_uri": "https://localhost:8080/",
          "height": 293
        },
        "id": "_ZVwXLaYlHOV",
        "outputId": "c7561b62-be9d-4f73-bfdf-cb13f2ed3c31"
      },
      "execution_count": 61,
      "outputs": [
        {
          "output_type": "error",
          "ename": "KeyboardInterrupt",
          "evalue": "ignored",
          "traceback": [
            "\u001b[0;31m---------------------------------------------------------------------------\u001b[0m",
            "\u001b[0;31mKeyboardInterrupt\u001b[0m                         Traceback (most recent call last)",
            "\u001b[0;32m<ipython-input-61-6331c22b1c21>\u001b[0m in \u001b[0;36m<cell line: 6>\u001b[0;34m()\u001b[0m\n\u001b[1;32m      9\u001b[0m             \u001b[0mfile_path\u001b[0m \u001b[0;34m=\u001b[0m \u001b[0mos\u001b[0m\u001b[0;34m.\u001b[0m\u001b[0mpath\u001b[0m\u001b[0;34m.\u001b[0m\u001b[0mjoin\u001b[0m\u001b[0;34m(\u001b[0m\u001b[0mroot\u001b[0m\u001b[0;34m,\u001b[0m \u001b[0mfile_name\u001b[0m\u001b[0;34m)\u001b[0m\u001b[0;34m\u001b[0m\u001b[0;34m\u001b[0m\u001b[0m\n\u001b[1;32m     10\u001b[0m             \u001b[0;32mtry\u001b[0m\u001b[0;34m:\u001b[0m\u001b[0;34m\u001b[0m\u001b[0;34m\u001b[0m\u001b[0m\n\u001b[0;32m---> 11\u001b[0;31m                 \u001b[0mdf\u001b[0m \u001b[0;34m=\u001b[0m \u001b[0mpd\u001b[0m\u001b[0;34m.\u001b[0m\u001b[0mread_csv\u001b[0m\u001b[0;34m(\u001b[0m\u001b[0mfile_path\u001b[0m\u001b[0;34m)\u001b[0m\u001b[0;34m\u001b[0m\u001b[0;34m\u001b[0m\u001b[0m\n\u001b[0m\u001b[1;32m     12\u001b[0m                 \u001b[0mamplitude\u001b[0m \u001b[0;34m=\u001b[0m \u001b[0mdf\u001b[0m\u001b[0;34m.\u001b[0m\u001b[0miloc\u001b[0m\u001b[0;34m[\u001b[0m\u001b[0;34m:\u001b[0m\u001b[0;34m,\u001b[0m \u001b[0;36m0\u001b[0m\u001b[0;34m]\u001b[0m\u001b[0;34m.\u001b[0m\u001b[0mmax\u001b[0m\u001b[0;34m(\u001b[0m\u001b[0;34m)\u001b[0m \u001b[0;34m-\u001b[0m \u001b[0mdf\u001b[0m\u001b[0;34m.\u001b[0m\u001b[0miloc\u001b[0m\u001b[0;34m[\u001b[0m\u001b[0;34m:\u001b[0m\u001b[0;34m,\u001b[0m \u001b[0;36m0\u001b[0m\u001b[0;34m]\u001b[0m\u001b[0;34m.\u001b[0m\u001b[0mmin\u001b[0m\u001b[0;34m(\u001b[0m\u001b[0;34m)\u001b[0m\u001b[0;34m\u001b[0m\u001b[0;34m\u001b[0m\u001b[0m\n\u001b[1;32m     13\u001b[0m                 \u001b[0;32mif\u001b[0m \u001b[0;34m-\u001b[0m\u001b[0;36m1\u001b[0m \u001b[0;34m<=\u001b[0m \u001b[0mamplitude\u001b[0m \u001b[0;34m<=\u001b[0m \u001b[0;36m1\u001b[0m\u001b[0;34m:\u001b[0m\u001b[0;34m\u001b[0m\u001b[0;34m\u001b[0m\u001b[0m\n",
            "\u001b[0;32m/usr/local/lib/python3.10/dist-packages/pandas/util/_decorators.py\u001b[0m in \u001b[0;36mwrapper\u001b[0;34m(*args, **kwargs)\u001b[0m\n\u001b[1;32m    209\u001b[0m                 \u001b[0;32melse\u001b[0m\u001b[0;34m:\u001b[0m\u001b[0;34m\u001b[0m\u001b[0;34m\u001b[0m\u001b[0m\n\u001b[1;32m    210\u001b[0m                     \u001b[0mkwargs\u001b[0m\u001b[0;34m[\u001b[0m\u001b[0mnew_arg_name\u001b[0m\u001b[0;34m]\u001b[0m \u001b[0;34m=\u001b[0m \u001b[0mnew_arg_value\u001b[0m\u001b[0;34m\u001b[0m\u001b[0;34m\u001b[0m\u001b[0m\n\u001b[0;32m--> 211\u001b[0;31m             \u001b[0;32mreturn\u001b[0m \u001b[0mfunc\u001b[0m\u001b[0;34m(\u001b[0m\u001b[0;34m*\u001b[0m\u001b[0margs\u001b[0m\u001b[0;34m,\u001b[0m \u001b[0;34m**\u001b[0m\u001b[0mkwargs\u001b[0m\u001b[0;34m)\u001b[0m\u001b[0;34m\u001b[0m\u001b[0;34m\u001b[0m\u001b[0m\n\u001b[0m\u001b[1;32m    212\u001b[0m \u001b[0;34m\u001b[0m\u001b[0m\n\u001b[1;32m    213\u001b[0m         \u001b[0;32mreturn\u001b[0m \u001b[0mcast\u001b[0m\u001b[0;34m(\u001b[0m\u001b[0mF\u001b[0m\u001b[0;34m,\u001b[0m \u001b[0mwrapper\u001b[0m\u001b[0;34m)\u001b[0m\u001b[0;34m\u001b[0m\u001b[0;34m\u001b[0m\u001b[0m\n",
            "\u001b[0;32m/usr/local/lib/python3.10/dist-packages/pandas/util/_decorators.py\u001b[0m in \u001b[0;36mwrapper\u001b[0;34m(*args, **kwargs)\u001b[0m\n\u001b[1;32m    329\u001b[0m                     \u001b[0mstacklevel\u001b[0m\u001b[0;34m=\u001b[0m\u001b[0mfind_stack_level\u001b[0m\u001b[0;34m(\u001b[0m\u001b[0;34m)\u001b[0m\u001b[0;34m,\u001b[0m\u001b[0;34m\u001b[0m\u001b[0;34m\u001b[0m\u001b[0m\n\u001b[1;32m    330\u001b[0m                 )\n\u001b[0;32m--> 331\u001b[0;31m             \u001b[0;32mreturn\u001b[0m \u001b[0mfunc\u001b[0m\u001b[0;34m(\u001b[0m\u001b[0;34m*\u001b[0m\u001b[0margs\u001b[0m\u001b[0;34m,\u001b[0m \u001b[0;34m**\u001b[0m\u001b[0mkwargs\u001b[0m\u001b[0;34m)\u001b[0m\u001b[0;34m\u001b[0m\u001b[0;34m\u001b[0m\u001b[0m\n\u001b[0m\u001b[1;32m    332\u001b[0m \u001b[0;34m\u001b[0m\u001b[0m\n\u001b[1;32m    333\u001b[0m         \u001b[0;31m# error: \"Callable[[VarArg(Any), KwArg(Any)], Any]\" has no\u001b[0m\u001b[0;34m\u001b[0m\u001b[0;34m\u001b[0m\u001b[0m\n",
            "\u001b[0;32m/usr/local/lib/python3.10/dist-packages/pandas/io/parsers/readers.py\u001b[0m in \u001b[0;36mread_csv\u001b[0;34m(filepath_or_buffer, sep, delimiter, header, names, index_col, usecols, squeeze, prefix, mangle_dupe_cols, dtype, engine, converters, true_values, false_values, skipinitialspace, skiprows, skipfooter, nrows, na_values, keep_default_na, na_filter, verbose, skip_blank_lines, parse_dates, infer_datetime_format, keep_date_col, date_parser, dayfirst, cache_dates, iterator, chunksize, compression, thousands, decimal, lineterminator, quotechar, quoting, doublequote, escapechar, comment, encoding, encoding_errors, dialect, error_bad_lines, warn_bad_lines, on_bad_lines, delim_whitespace, low_memory, memory_map, float_precision, storage_options)\u001b[0m\n\u001b[1;32m    948\u001b[0m     \u001b[0mkwds\u001b[0m\u001b[0;34m.\u001b[0m\u001b[0mupdate\u001b[0m\u001b[0;34m(\u001b[0m\u001b[0mkwds_defaults\u001b[0m\u001b[0;34m)\u001b[0m\u001b[0;34m\u001b[0m\u001b[0;34m\u001b[0m\u001b[0m\n\u001b[1;32m    949\u001b[0m \u001b[0;34m\u001b[0m\u001b[0m\n\u001b[0;32m--> 950\u001b[0;31m     \u001b[0;32mreturn\u001b[0m \u001b[0m_read\u001b[0m\u001b[0;34m(\u001b[0m\u001b[0mfilepath_or_buffer\u001b[0m\u001b[0;34m,\u001b[0m \u001b[0mkwds\u001b[0m\u001b[0;34m)\u001b[0m\u001b[0;34m\u001b[0m\u001b[0;34m\u001b[0m\u001b[0m\n\u001b[0m\u001b[1;32m    951\u001b[0m \u001b[0;34m\u001b[0m\u001b[0m\n\u001b[1;32m    952\u001b[0m \u001b[0;34m\u001b[0m\u001b[0m\n",
            "\u001b[0;32m/usr/local/lib/python3.10/dist-packages/pandas/io/parsers/readers.py\u001b[0m in \u001b[0;36m_read\u001b[0;34m(filepath_or_buffer, kwds)\u001b[0m\n\u001b[1;32m    603\u001b[0m \u001b[0;34m\u001b[0m\u001b[0m\n\u001b[1;32m    604\u001b[0m     \u001b[0;31m# Create the parser.\u001b[0m\u001b[0;34m\u001b[0m\u001b[0;34m\u001b[0m\u001b[0m\n\u001b[0;32m--> 605\u001b[0;31m     \u001b[0mparser\u001b[0m \u001b[0;34m=\u001b[0m \u001b[0mTextFileReader\u001b[0m\u001b[0;34m(\u001b[0m\u001b[0mfilepath_or_buffer\u001b[0m\u001b[0;34m,\u001b[0m \u001b[0;34m**\u001b[0m\u001b[0mkwds\u001b[0m\u001b[0;34m)\u001b[0m\u001b[0;34m\u001b[0m\u001b[0;34m\u001b[0m\u001b[0m\n\u001b[0m\u001b[1;32m    606\u001b[0m \u001b[0;34m\u001b[0m\u001b[0m\n\u001b[1;32m    607\u001b[0m     \u001b[0;32mif\u001b[0m \u001b[0mchunksize\u001b[0m \u001b[0;32mor\u001b[0m \u001b[0miterator\u001b[0m\u001b[0;34m:\u001b[0m\u001b[0;34m\u001b[0m\u001b[0;34m\u001b[0m\u001b[0m\n",
            "\u001b[0;32m/usr/local/lib/python3.10/dist-packages/pandas/io/parsers/readers.py\u001b[0m in \u001b[0;36m__init__\u001b[0;34m(self, f, engine, **kwds)\u001b[0m\n\u001b[1;32m   1440\u001b[0m \u001b[0;34m\u001b[0m\u001b[0m\n\u001b[1;32m   1441\u001b[0m         \u001b[0mself\u001b[0m\u001b[0;34m.\u001b[0m\u001b[0mhandles\u001b[0m\u001b[0;34m:\u001b[0m \u001b[0mIOHandles\u001b[0m \u001b[0;34m|\u001b[0m \u001b[0;32mNone\u001b[0m \u001b[0;34m=\u001b[0m \u001b[0;32mNone\u001b[0m\u001b[0;34m\u001b[0m\u001b[0;34m\u001b[0m\u001b[0m\n\u001b[0;32m-> 1442\u001b[0;31m         \u001b[0mself\u001b[0m\u001b[0;34m.\u001b[0m\u001b[0m_engine\u001b[0m \u001b[0;34m=\u001b[0m \u001b[0mself\u001b[0m\u001b[0;34m.\u001b[0m\u001b[0m_make_engine\u001b[0m\u001b[0;34m(\u001b[0m\u001b[0mf\u001b[0m\u001b[0;34m,\u001b[0m \u001b[0mself\u001b[0m\u001b[0;34m.\u001b[0m\u001b[0mengine\u001b[0m\u001b[0;34m)\u001b[0m\u001b[0;34m\u001b[0m\u001b[0;34m\u001b[0m\u001b[0m\n\u001b[0m\u001b[1;32m   1443\u001b[0m \u001b[0;34m\u001b[0m\u001b[0m\n\u001b[1;32m   1444\u001b[0m     \u001b[0;32mdef\u001b[0m \u001b[0mclose\u001b[0m\u001b[0;34m(\u001b[0m\u001b[0mself\u001b[0m\u001b[0;34m)\u001b[0m \u001b[0;34m->\u001b[0m \u001b[0;32mNone\u001b[0m\u001b[0;34m:\u001b[0m\u001b[0;34m\u001b[0m\u001b[0;34m\u001b[0m\u001b[0m\n",
            "\u001b[0;32m/usr/local/lib/python3.10/dist-packages/pandas/io/parsers/readers.py\u001b[0m in \u001b[0;36m_make_engine\u001b[0;34m(self, f, engine)\u001b[0m\n\u001b[1;32m   1751\u001b[0m \u001b[0;34m\u001b[0m\u001b[0m\n\u001b[1;32m   1752\u001b[0m         \u001b[0;32mtry\u001b[0m\u001b[0;34m:\u001b[0m\u001b[0;34m\u001b[0m\u001b[0;34m\u001b[0m\u001b[0m\n\u001b[0;32m-> 1753\u001b[0;31m             \u001b[0;32mreturn\u001b[0m \u001b[0mmapping\u001b[0m\u001b[0;34m[\u001b[0m\u001b[0mengine\u001b[0m\u001b[0;34m]\u001b[0m\u001b[0;34m(\u001b[0m\u001b[0mf\u001b[0m\u001b[0;34m,\u001b[0m \u001b[0;34m**\u001b[0m\u001b[0mself\u001b[0m\u001b[0;34m.\u001b[0m\u001b[0moptions\u001b[0m\u001b[0;34m)\u001b[0m\u001b[0;34m\u001b[0m\u001b[0;34m\u001b[0m\u001b[0m\n\u001b[0m\u001b[1;32m   1754\u001b[0m         \u001b[0;32mexcept\u001b[0m \u001b[0mException\u001b[0m\u001b[0;34m:\u001b[0m\u001b[0;34m\u001b[0m\u001b[0;34m\u001b[0m\u001b[0m\n\u001b[1;32m   1755\u001b[0m             \u001b[0;32mif\u001b[0m \u001b[0mself\u001b[0m\u001b[0;34m.\u001b[0m\u001b[0mhandles\u001b[0m \u001b[0;32mis\u001b[0m \u001b[0;32mnot\u001b[0m \u001b[0;32mNone\u001b[0m\u001b[0;34m:\u001b[0m\u001b[0;34m\u001b[0m\u001b[0;34m\u001b[0m\u001b[0m\n",
            "\u001b[0;32m/usr/local/lib/python3.10/dist-packages/pandas/io/parsers/c_parser_wrapper.py\u001b[0m in \u001b[0;36m__init__\u001b[0;34m(self, src, **kwds)\u001b[0m\n\u001b[1;32m     77\u001b[0m \u001b[0;34m\u001b[0m\u001b[0m\n\u001b[1;32m     78\u001b[0m         \u001b[0mkwds\u001b[0m\u001b[0;34m[\u001b[0m\u001b[0;34m\"dtype\"\u001b[0m\u001b[0;34m]\u001b[0m \u001b[0;34m=\u001b[0m \u001b[0mensure_dtype_objs\u001b[0m\u001b[0;34m(\u001b[0m\u001b[0mkwds\u001b[0m\u001b[0;34m.\u001b[0m\u001b[0mget\u001b[0m\u001b[0;34m(\u001b[0m\u001b[0;34m\"dtype\"\u001b[0m\u001b[0;34m,\u001b[0m \u001b[0;32mNone\u001b[0m\u001b[0;34m)\u001b[0m\u001b[0;34m)\u001b[0m\u001b[0;34m\u001b[0m\u001b[0;34m\u001b[0m\u001b[0m\n\u001b[0;32m---> 79\u001b[0;31m         \u001b[0mself\u001b[0m\u001b[0;34m.\u001b[0m\u001b[0m_reader\u001b[0m \u001b[0;34m=\u001b[0m \u001b[0mparsers\u001b[0m\u001b[0;34m.\u001b[0m\u001b[0mTextReader\u001b[0m\u001b[0;34m(\u001b[0m\u001b[0msrc\u001b[0m\u001b[0;34m,\u001b[0m \u001b[0;34m**\u001b[0m\u001b[0mkwds\u001b[0m\u001b[0;34m)\u001b[0m\u001b[0;34m\u001b[0m\u001b[0;34m\u001b[0m\u001b[0m\n\u001b[0m\u001b[1;32m     80\u001b[0m \u001b[0;34m\u001b[0m\u001b[0m\n\u001b[1;32m     81\u001b[0m         \u001b[0mself\u001b[0m\u001b[0;34m.\u001b[0m\u001b[0munnamed_cols\u001b[0m \u001b[0;34m=\u001b[0m \u001b[0mself\u001b[0m\u001b[0;34m.\u001b[0m\u001b[0m_reader\u001b[0m\u001b[0;34m.\u001b[0m\u001b[0munnamed_cols\u001b[0m\u001b[0;34m\u001b[0m\u001b[0;34m\u001b[0m\u001b[0m\n",
            "\u001b[0;32m/usr/local/lib/python3.10/dist-packages/pandas/_libs/parsers.pyx\u001b[0m in \u001b[0;36mpandas._libs.parsers.TextReader.__cinit__\u001b[0;34m()\u001b[0m\n",
            "\u001b[0;32m/usr/local/lib/python3.10/dist-packages/pandas/_libs/parsers.pyx\u001b[0m in \u001b[0;36mpandas._libs.parsers.TextReader._get_header\u001b[0;34m()\u001b[0m\n",
            "\u001b[0;31mKeyboardInterrupt\u001b[0m: "
          ]
        }
      ]
    },
    {
      "cell_type": "code",
      "source": [
        "ls\n"
      ],
      "metadata": {
        "colab": {
          "base_uri": "https://localhost:8080/"
        },
        "id": "j96DExkOlI6u",
        "outputId": "9a360702-a855-45b0-a725-d93b1b378a7c"
      },
      "execution_count": 58,
      "outputs": [
        {
          "output_type": "stream",
          "name": "stdout",
          "text": [
            "\u001b[0m\u001b[01;34m'RF Data_10100_H'\u001b[0m/  \u001b[01;34m'RF Data_10101_H'\u001b[0m/  \u001b[01;34m'RF Data_10110_H'\u001b[0m/  \u001b[01;34m'RF Data_10111_H'\u001b[0m/\n",
            "\u001b[01;34m'RF Data_10100_L'\u001b[0m/  \u001b[01;34m'RF Data_10101_L'\u001b[0m/  \u001b[01;34m'RF Data_10110_L'\u001b[0m/  \u001b[01;34m'RF Data_10111_L'\u001b[0m/\n"
          ]
        }
      ]
    },
    {
      "cell_type": "code",
      "source": [
        "cd  .."
      ],
      "metadata": {
        "colab": {
          "base_uri": "https://localhost:8080/"
        },
        "id": "rBsiQ8tDlNHn",
        "outputId": "a583d60d-ab6d-4b07-f63f-fa8968a78a21"
      },
      "execution_count": 59,
      "outputs": [
        {
          "output_type": "stream",
          "name": "stdout",
          "text": [
            "/root/DroneRF\n"
          ]
        }
      ]
    }
  ],
  "metadata": {
    "colab": {
      "provenance": [],
      "authorship_tag": "ABX9TyNR6S3kDa4NuqWeBiY53O05",
      "include_colab_link": true
    },
    "kernelspec": {
      "display_name": "Python 3",
      "name": "python3"
    },
    "language_info": {
      "name": "python"
    }
  },
  "nbformat": 4,
  "nbformat_minor": 0
}